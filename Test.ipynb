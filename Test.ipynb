{
 "cells": [
  {
   "cell_type": "code",
   "execution_count": 1,
   "id": "92a670a4",
   "metadata": {},
   "outputs": [],
   "source": [
    "import pandas as pd\n",
    "from datetime import datetime, timedelta"
   ]
  },
  {
   "cell_type": "code",
   "execution_count": 2,
   "id": "59c8bb79",
   "metadata": {},
   "outputs": [],
   "source": [
    "ruta=r\"C:\\Users\\jcleiva\\Documents\\Reportes Base\""
   ]
  },
  {
   "cell_type": "code",
   "execution_count": 3,
   "id": "383b80cc",
   "metadata": {},
   "outputs": [],
   "source": [
    "rDesp=r\"C:\\Users\\jcleiva\\Documents\\Reportes Base\\{}\\Despachos\\{}. Despachos {}Q.xlsx\""
   ]
  },
  {
   "cell_type": "code",
   "execution_count": 4,
   "id": "35cad7a4",
   "metadata": {},
   "outputs": [],
   "source": [
    "cDesp=[\"Destinatario de mercancías\",\"Entrega\",\"    # PLU\",\"Material\",\"Marca Formato\"]\n",
    "cvDesp={\"Entrega\":str,\"    # PLU\":str,\"Material\":str}\n",
    "convEjec={\"Centro de beneficio\":str,\"Número de cuenta\":str,\"Material\":str,\"Centro\":str}"
   ]
  },
  {
   "cell_type": "code",
   "execution_count": 5,
   "id": "7b36f131",
   "metadata": {},
   "outputs": [],
   "source": [
    "def ejecCEBEAgg(m,y,ruta):\n",
    "    colsEjec=[\"Centro de beneficio\",\"Número de cuenta\",\"Denominación\",\"Material\",\"Centro\",\"Clase mov. MM\",\"En moneda local centro de beneficio\",\"Cantidad\"]\n",
    "    convEjec={\"Centro de beneficio\":str,\"Número de cuenta\":str,\"Material\":str,\"Centro\":str}\n",
    "    colsTemp=[\"Centro de beneficio\",\"Número de cuenta\",\"Denominación\",\"Material\",\"Centro\",\"Clase mov. MM\"]\n",
    "    tiempo=(y,m)\n",
    "    direc={\"Costo de Ventas Industria CEBE.xlsx\":\"Costo de Ventas\",\n",
    "           \"Ingreso Industria CEBE.xlsx\":\"Ingresos\",\n",
    "           \"Gasto Industria CEBE.xlsx\":\"Gasto\",\n",
    "           \"Cuenta 7 Industria CEBE.xlsx\":\"Ejecución\"}\n",
    "    \n",
    "    #for file in [\"Costo de Ventas Industria CEBE.xlsx\",\"Ingreso Industria CEBE.xlsx\",\"Gasto Industria CEBE.xlsx\",\"Cuenta 7 Industria CEBE.xlsx\"]:\n",
    "    for file in [\"Costo de Ventas Industria CEBE.xlsx\"]:\n",
    "        if file==\"Costo de Ventas Industria CEBE.xlsx\":\n",
    "            cols=colsEjec+[\"Documento comercial\"]\n",
    "            conv=convEjec\n",
    "            conv[\"Documento comercial\"]=str\n",
    "            cTemp=colsTemp+[\"Documento comercial\"]\n",
    "        else:\n",
    "            cols=colsEjec\n",
    "            conv=convEjec\n",
    "            cTemp=colsTemp\n",
    "            \n",
    "        dfEj=pd.read_excel(ruta+\"\\{}\\{}\\{}. {}\".format(tiempo[0],direc[file],tiempo[1],file),\n",
    "                           usecols=cols,\n",
    "                           converters=conv)\n",
    "        \n",
    "        for i in dfEj.columns:\n",
    "            if dfEj[i].dtype == \"object\":\n",
    "                dfEj[i].fillna(\"\",inplace=True)\n",
    "            elif (dfEj[i].dtype == \"float64\") or (dfEj[i].dtype == \"int64\"):\n",
    "                dfEj[i].fillna(0.0,inplace=True)\n",
    "        \n",
    "        dfEj=dfEj.groupby(cTemp,dropna=False).sum().reset_index()\n",
    "        \n",
    "        dfEj[\"Fecha\"]=datetime(tiempo[0],tiempo[1],1)\n",
    "        dfEj=dfEj.rename(columns={\"En moneda local centro de beneficio\":\"Importe\"})\n",
    "        \n",
    "        dfEj.to_excel(ruta+\"\\{}\\{}\\{}. {} (Agg).xlsx\".format(tiempo[0],direc[file],tiempo[1],file[:-5]),index=None)\n",
    "        print(\"Archivo: \"+\"\\{}\\{}\\{}. {} (Agg).xlsx\".format(tiempo[0],direc[file],tiempo[1],file[:-5])+\" generado con éxito\")\n",
    "        \n",
    "        if file==\"Costo de Ventas Industria CEBE.xlsx\":\n",
    "            dfDespQ=pd.read_excel(rDesp.format(y,m,1),converters=cvDesp,usecols=cDesp)\n",
    "            dfDespQ=pd.concat([dfDespQ,pd.read_excel(rDesp.format(y,m,2),converters=cvDesp,usecols=cDesp)])\n",
    "            dfDespQ=dfDespQ.drop_duplicates()\n",
    "            dfDespQ=dfDespQ.rename(columns={\"Entrega\":\"Documento comercial\",\"    # PLU\":\"PLU Industria\"})\n",
    "        \n",
    "            if not dfEj.merge(dfDespQ,on=[\"Documento comercial\",\"Material\"],how=\"left\").shape[0]==dfEj.shape[0]:\n",
    "                return dfEj , dfDespQ\n",
    "                raise Exception(\"Despachos por Q inserta filas\")\n",
    "\n",
    "            dfEj=dfEj.merge(dfDespQ,on=[\"Documento comercial\",\"Material\"],how=\"left\")\n",
    "\n",
    "            del dfEj[\"Documento comercial\"]\n",
    "            dfEj[\"PLU Industria\"]=dfEj[\"PLU Industria\"].str.lstrip(\"0\")\n",
    "            \n",
    "            for i in dfEj.columns:\n",
    "                if dfEj[i].dtype == \"object\":\n",
    "                    dfEj[i].fillna(\"\",inplace=True)\n",
    "                elif (dfEj[i].dtype == \"float64\") or (dfEj[i].dtype == \"int64\"):\n",
    "                    dfEj[i].fillna(0.0,inplace=True)\n",
    "            \n",
    "            dfEj=dfEj.groupby(['Centro de beneficio', 'Número de cuenta', 'Denominación', \n",
    "                               'Material','Centro', 'Clase mov. MM', 'Fecha',\n",
    "                               'Destinatario de mercancías', 'PLU Industria', 'Marca Formato']).sum().reset_index()\n",
    "            \n",
    "            dfEj.to_excel(ruta+\"\\{}\\{}\\{}. {} (PLU).xlsx\".format(tiempo[0],direc[file],tiempo[1],file[:-5]),index=None)\n",
    "            print(\"Archivo: \"+\"\\{}\\{}\\{}. {} (PLU).xlsx\".format(tiempo[0],direc[file],tiempo[1],file[:-5])+\" generado con éxito\")"
   ]
  },
  {
   "cell_type": "code",
   "execution_count": 6,
   "id": "6c620a8c",
   "metadata": {},
   "outputs": [
    {
     "name": "stdout",
     "output_type": "stream",
     "text": [
      "Archivo: \\2022\\Costo de Ventas\\7. Costo de Ventas Industria CEBE (Agg).xlsx generado con éxito\n"
     ]
    }
   ],
   "source": [
    " dfEj , dfDespQ=ejecCEBEAgg(7,2022,ruta)"
   ]
  },
  {
   "cell_type": "code",
   "execution_count": 7,
   "id": "37400379",
   "metadata": {},
   "outputs": [
    {
     "data": {
      "text/html": [
       "<div>\n",
       "<style scoped>\n",
       "    .dataframe tbody tr th:only-of-type {\n",
       "        vertical-align: middle;\n",
       "    }\n",
       "\n",
       "    .dataframe tbody tr th {\n",
       "        vertical-align: top;\n",
       "    }\n",
       "\n",
       "    .dataframe thead th {\n",
       "        text-align: right;\n",
       "    }\n",
       "</style>\n",
       "<table border=\"1\" class=\"dataframe\">\n",
       "  <thead>\n",
       "    <tr style=\"text-align: right;\">\n",
       "      <th></th>\n",
       "      <th>Centro de beneficio</th>\n",
       "      <th>Número de cuenta</th>\n",
       "      <th>Denominación</th>\n",
       "      <th>Material</th>\n",
       "      <th>Centro</th>\n",
       "      <th>Clase mov. MM</th>\n",
       "      <th>Documento comercial</th>\n",
       "      <th>Importe</th>\n",
       "      <th>Cantidad</th>\n",
       "      <th>Fecha</th>\n",
       "    </tr>\n",
       "  </thead>\n",
       "  <tbody>\n",
       "    <tr>\n",
       "      <th>0</th>\n",
       "      <td>7670</td>\n",
       "      <td>612014001</td>\n",
       "      <td>AJ. CTO X ENTRADAS</td>\n",
       "      <td>3002185</td>\n",
       "      <td>7310</td>\n",
       "      <td>101</td>\n",
       "      <td></td>\n",
       "      <td>0</td>\n",
       "      <td>0.0</td>\n",
       "      <td>2022-07-01</td>\n",
       "    </tr>\n",
       "    <tr>\n",
       "      <th>1</th>\n",
       "      <td>7670</td>\n",
       "      <td>612014012</td>\n",
       "      <td>DESP. INGR. PLANTAS</td>\n",
       "      <td></td>\n",
       "      <td></td>\n",
       "      <td></td>\n",
       "      <td></td>\n",
       "      <td>-125255017</td>\n",
       "      <td>0.0</td>\n",
       "      <td>2022-07-01</td>\n",
       "    </tr>\n",
       "    <tr>\n",
       "      <th>2</th>\n",
       "      <td>7670</td>\n",
       "      <td>612014012</td>\n",
       "      <td>DESP. INGR. PLANTAS</td>\n",
       "      <td>5006934</td>\n",
       "      <td>7310</td>\n",
       "      <td></td>\n",
       "      <td></td>\n",
       "      <td>-2247672</td>\n",
       "      <td>-56.0</td>\n",
       "      <td>2022-07-01</td>\n",
       "    </tr>\n",
       "    <tr>\n",
       "      <th>3</th>\n",
       "      <td>7670</td>\n",
       "      <td>612014012</td>\n",
       "      <td>DESP. INGR. PLANTAS</td>\n",
       "      <td>5006935</td>\n",
       "      <td>7310</td>\n",
       "      <td></td>\n",
       "      <td></td>\n",
       "      <td>-78467835</td>\n",
       "      <td>-1955.0</td>\n",
       "      <td>2022-07-01</td>\n",
       "    </tr>\n",
       "    <tr>\n",
       "      <th>4</th>\n",
       "      <td>7670</td>\n",
       "      <td>612014012</td>\n",
       "      <td>DESP. INGR. PLANTAS</td>\n",
       "      <td>5006937</td>\n",
       "      <td>7310</td>\n",
       "      <td></td>\n",
       "      <td></td>\n",
       "      <td>-22249500</td>\n",
       "      <td>-4550.0</td>\n",
       "      <td>2022-07-01</td>\n",
       "    </tr>\n",
       "  </tbody>\n",
       "</table>\n",
       "</div>"
      ],
      "text/plain": [
       "  Centro de beneficio Número de cuenta         Denominación Material Centro  \\\n",
       "0                7670        612014001   AJ. CTO X ENTRADAS  3002185   7310   \n",
       "1                7670        612014012  DESP. INGR. PLANTAS                   \n",
       "2                7670        612014012  DESP. INGR. PLANTAS  5006934   7310   \n",
       "3                7670        612014012  DESP. INGR. PLANTAS  5006935   7310   \n",
       "4                7670        612014012  DESP. INGR. PLANTAS  5006937   7310   \n",
       "\n",
       "  Clase mov. MM Documento comercial    Importe  Cantidad      Fecha  \n",
       "0           101                              0       0.0 2022-07-01  \n",
       "1                                   -125255017       0.0 2022-07-01  \n",
       "2                                     -2247672     -56.0 2022-07-01  \n",
       "3                                    -78467835   -1955.0 2022-07-01  \n",
       "4                                    -22249500   -4550.0 2022-07-01  "
      ]
     },
     "execution_count": 7,
     "metadata": {},
     "output_type": "execute_result"
    }
   ],
   "source": [
    "dfEj.head()"
   ]
  },
  {
   "cell_type": "code",
   "execution_count": 14,
   "id": "8ab44aca",
   "metadata": {},
   "outputs": [],
   "source": [
    "if not dfEj.merge(dfDespQ,on=[\"Documento comercial\",\"Material\"],how=\"left\").shape[0]==dfEj.shape[0]:\n",
    "    raise Exception(\"Despachos por Q inserta filas\")"
   ]
  },
  {
   "cell_type": "code",
   "execution_count": 9,
   "id": "77f81797",
   "metadata": {},
   "outputs": [],
   "source": [
    "dfEj.to_excel(\"ejec.xlsx\",index=None)\n",
    "dfDespQ.to_excel(\"Desp.xlsx\",index=None)"
   ]
  },
  {
   "cell_type": "code",
   "execution_count": 13,
   "id": "774c28f5",
   "metadata": {},
   "outputs": [],
   "source": [
    "#ajuste julio 2022\n",
    "dfDespQ=dfDespQ[~((dfDespQ[\"Documento comercial\"]==\"210465132\")&(dfDespQ[\"Material\"]==\"5006943\")&(dfDespQ[\"PLU Industria\"].isna()))]"
   ]
  },
  {
   "cell_type": "code",
   "execution_count": 1,
   "id": "5b265974",
   "metadata": {},
   "outputs": [
    {
     "ename": "NameError",
     "evalue": "name 'now' is not defined",
     "output_type": "error",
     "traceback": [
      "\u001b[1;31m---------------------------------------------------------------------------\u001b[0m",
      "\u001b[1;31mNameError\u001b[0m                                 Traceback (most recent call last)",
      "Cell \u001b[1;32mIn[1], line 1\u001b[0m\n\u001b[1;32m----> 1\u001b[0m \u001b[43mnow\u001b[49m()\n",
      "\u001b[1;31mNameError\u001b[0m: name 'now' is not defined"
     ]
    }
   ],
   "source": [
    "now()"
   ]
  },
  {
   "cell_type": "code",
   "execution_count": 2,
   "id": "db7d1112",
   "metadata": {},
   "outputs": [],
   "source": [
    "from datetime import datetime, timedelta"
   ]
  },
  {
   "cell_type": "code",
   "execution_count": 3,
   "id": "7ecb7d65",
   "metadata": {},
   "outputs": [
    {
     "data": {
      "text/plain": [
       "datetime.datetime(2023, 10, 5, 21, 21, 2, 491493)"
      ]
     },
     "execution_count": 3,
     "metadata": {},
     "output_type": "execute_result"
    }
   ],
   "source": [
    "datetime.now()"
   ]
  },
  {
   "cell_type": "code",
   "execution_count": 10,
   "id": "b211c649",
   "metadata": {},
   "outputs": [
    {
     "data": {
      "text/plain": [
       "False"
      ]
     },
     "execution_count": 10,
     "metadata": {},
     "output_type": "execute_result"
    }
   ],
   "source": []
  },
  {
   "cell_type": "code",
   "execution_count": null,
   "id": "fa920f2b",
   "metadata": {},
   "outputs": [],
   "source": []
  }
 ],
 "metadata": {
  "kernelspec": {
   "display_name": "Python 3 (ipykernel)",
   "language": "python",
   "name": "python3"
  },
  "language_info": {
   "codemirror_mode": {
    "name": "ipython",
    "version": 3
   },
   "file_extension": ".py",
   "mimetype": "text/x-python",
   "name": "python",
   "nbconvert_exporter": "python",
   "pygments_lexer": "ipython3",
   "version": "3.10.11"
  }
 },
 "nbformat": 4,
 "nbformat_minor": 5
}
