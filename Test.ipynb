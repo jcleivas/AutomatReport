{
 "cells": [
  {
   "cell_type": "code",
   "execution_count": 1,
   "id": "fd383aa9",
   "metadata": {},
   "outputs": [],
   "source": [
    "from selenium import webdriver\n",
    "from selenium.webdriver.common.by import By\n",
    "from selenium.webdriver.chrome.service import Service\n",
    "\n",
    "import time\n",
    "from os import listdir\n",
    "from os.path import isfile, join\n",
    "import shutil\n",
    "\n",
    "import argparse\n",
    "from datetime import datetime, timedelta\n",
    "import pandas as pd"
   ]
  },
  {
   "cell_type": "code",
   "execution_count": 3,
   "id": "ed29287e",
   "metadata": {},
   "outputs": [],
   "source": [
    "path=r\"C:\\Users\\jcleiva\\OneDrive - Grupo-exito.com\\Escritorio\\Proyectos\\AutomatizacionExito\\chromedriver_win32\\chromedriver.exe\"\n",
    "mypathD=r\"C:\\Users\\jcleiva\\Downloads\"\n",
    "mypathPDL=r\"C:\\Users\\jcleiva\\OneDrive - Grupo-exito.com\\Escritorio\\P&G Industria\\V3\\Ingresos\\Ingresos\"\n",
    "service = Service(executable_path=path)\n",
    "options = webdriver.ChromeOptions()\n",
    "driver = webdriver.Chrome(service=service, options=options)\n",
    "\n",
    "driver.get(\"https://pasarela.grupo-exito.com/MicroStrategy/servlet/mstrWeb?evt=3001&src=mstrWeb.3001&Port=0&\")\n",
    "\n",
    "usr=driver.find_element(By.XPATH,'//*[@id=\"Uid\"]')\n",
    "usr.send_keys(\"jcleiva\")\n",
    "psw=driver.find_element(By.XPATH,'//*[@id=\"Pwd\"]')\n",
    "psw.send_keys(\"Teb.1030611534\")\n",
    "\n",
    "driver.find_element(By.XPATH,'//*[@id=\"3054\"]').click()\n",
    "driver.find_element(By.XPATH,'//*[@id=\"projects_ProjectsStyle\"]/table/tbody/tr/td[1]/div/table/tbody/tr/td[2]/a').click()\n",
    "driver.find_element(By.XPATH,'//*[@id=\"dktpSectionView\"]/a[2]/div[1]').click()\n",
    "driver.find_element(By.XPATH,'//*[@id=\"FolderIcons\"]/tbody/tr[1]/td[1]/div/table/tbody/tr/td[2]/a').click()\n",
    "\n",
    "tiempo=(2023,8)\n",
    "m"
   ]
  },
  {
   "cell_type": "code",
   "execution_count": 8,
   "id": "a2410e64",
   "metadata": {},
   "outputs": [],
   "source": [
    "m=8\n",
    "y=2023"
   ]
  },
  {
   "cell_type": "code",
   "execution_count": 6,
   "id": "eebdd48d",
   "metadata": {},
   "outputs": [],
   "source": [
    "time.sleep(3)\n",
    "driver.find_element(By.XPATH,'//*[@id=\"id_mstr116\"]/table/tbody/tr[8]/td[2]').click()\n",
    "time.sleep(3)\n",
    "driver.find_element(By.XPATH,'//*[@id=\"id_mstr329\"]/div[2]/div/div/div[2]/div/a[4]').click()\n",
    "driver.find_element(By.XPATH,'//*[@id=\"id_mstr460_txt\"]').clear()"
   ]
  },
  {
   "cell_type": "code",
   "execution_count": 9,
   "id": "88b09767",
   "metadata": {},
   "outputs": [],
   "source": [
    "meses={1:\"Enero\",2:\"Febrero\",3:\"Marzo\",4:\"Abril\",5:\"Mayo\",6:\"Junio\",7:\"Julio\",8:\"Agosto\",9:\"Septiembre\",10:\"Octubre\",\n",
    "      11:\"Noviembre\",12:\"Diciembre\"}\n",
    "driver.find_element(By.XPATH,'//*[@id=\"id_mstr460_txt\"]').send_keys(\"{} {}\".format(meses[m],y))"
   ]
  },
  {
   "cell_type": "code",
   "execution_count": 11,
   "id": "9c47a7a0",
   "metadata": {},
   "outputs": [],
   "source": [
    "driver.find_element(By.XPATH,'//*[@id=\"id_mstr462\"]').click()"
   ]
  },
  {
   "cell_type": "code",
   "execution_count": 12,
   "id": "355bdd96",
   "metadata": {},
   "outputs": [
    {
     "name": "stdout",
     "output_type": "stream",
     "text": [
      "Reporte de Ingresos descargado: 2023 8\n"
     ]
    },
    {
     "ename": "NameError",
     "evalue": "name 'titlesReport' is not defined",
     "output_type": "error",
     "traceback": [
      "\u001b[1;31m---------------------------------------------------------------------------\u001b[0m",
      "\u001b[1;31mNameError\u001b[0m                                 Traceback (most recent call last)",
      "Cell \u001b[1;32mIn[12], line 32\u001b[0m\n\u001b[0;32m     30\u001b[0m time\u001b[38;5;241m.\u001b[39msleep(\u001b[38;5;241m3\u001b[39m)\n\u001b[0;32m     31\u001b[0m \u001b[38;5;28mprint\u001b[39m(\u001b[38;5;124m\"\u001b[39m\u001b[38;5;124mReporte de Ingresos descargado: \u001b[39m\u001b[38;5;132;01m{}\u001b[39;00m\u001b[38;5;124m \u001b[39m\u001b[38;5;132;01m{}\u001b[39;00m\u001b[38;5;124m\"\u001b[39m\u001b[38;5;241m.\u001b[39mformat(y,m))\n\u001b[1;32m---> 32\u001b[0m \u001b[43mtitlesReport\u001b[49m(mypathPDL, \u001b[38;5;124m\"\u001b[39m\u001b[38;5;132;01m{}\u001b[39;00m\u001b[38;5;132;01m{:02d}\u001b[39;00m\u001b[38;5;124m. Ingresos.xlsx\u001b[39m\u001b[38;5;124m\"\u001b[39m\u001b[38;5;241m.\u001b[39mformat(y,m),\u001b[38;5;124m\"\u001b[39m\u001b[38;5;124mIngresos\u001b[39m\u001b[38;5;124m\"\u001b[39m)\n",
      "\u001b[1;31mNameError\u001b[0m: name 'titlesReport' is not defined"
     ]
    }
   ],
   "source": [
    "driver.find_element(By.XPATH,'//*[@id=\"id_mstr284\"]').click()\n",
    "\n",
    "original_window=driver.current_window_handle\n",
    "\n",
    "time.sleep(50)\n",
    "\n",
    "driver.find_element(By.XPATH,'//*[@id=\"tbExport\"]').click()\n",
    "time.sleep(3)\n",
    "\n",
    "driver.switch_to.window(driver.window_handles[-1])\n",
    "prefiles = [f for f in listdir(mypathD) if isfile(join(mypathD, f)) and f[-5:]==\".xlsx\"]\n",
    "\n",
    "driver.find_element(By.XPATH,'//*[@id=\"3131\"]').click()\n",
    "\n",
    "time.sleep(30)\n",
    "\n",
    "posfiles = [f for f in listdir(mypathD) if isfile(join(mypathD, f)) and f[-5:]==\".xlsx\"]\n",
    "\n",
    "nFiles=list(set(posfiles) - set(prefiles))\n",
    "if len(nFiles)==1:\n",
    "    shutil.copy(join(mypathD, nFiles[0]),join(mypathPDL, \"{}{:02d}. Ingresos.xlsx\".format(y,m)))\n",
    "else:\n",
    "    print(\"No pudimos determinar el archivo nuevo: {} {:02d}\".format(y,m))\n",
    "\n",
    "driver.close()\n",
    "\n",
    "driver.switch_to.window(original_window)\n",
    "driver.find_element(By.XPATH,'//*[@id=\"tbBack0\"]').click()\n",
    "\n",
    "time.sleep(3)\n",
    "print(\"Reporte de Ingresos descargado: {} {}\".format(y,m))\n",
    "titlesReport(mypathPDL, \"{}{:02d}. Ingresos.xlsx\".format(y,m),\"Ingresos\")"
   ]
  },
  {
   "cell_type": "code",
   "execution_count": 4,
   "id": "2d35988b",
   "metadata": {},
   "outputs": [],
   "source": [
    "import openpyxl"
   ]
  },
  {
   "cell_type": "code",
   "execution_count": 5,
   "id": "4d8cc8ac",
   "metadata": {},
   "outputs": [],
   "source": [
    "fname=r\"C:\\Users\\jcleiva\\OneDrive - Grupo-exito.com\\Escritorio\\P&G Industria\\V3\\Despachos\\202108. Despachos - copia2.xlsx\""
   ]
  },
  {
   "cell_type": "code",
   "execution_count": 6,
   "id": "dcb9aa7a",
   "metadata": {},
   "outputs": [],
   "source": [
    "sname=\"Despachos y Devoluciones Indust\""
   ]
  },
  {
   "cell_type": "code",
   "execution_count": 7,
   "id": "abb3e68a",
   "metadata": {},
   "outputs": [],
   "source": [
    "book = openpyxl.load_workbook(fname)\n",
    "\n",
    "# select the sheet\n",
    "sheet = book[sname]"
   ]
  },
  {
   "cell_type": "code",
   "execution_count": 1,
   "id": "86790479",
   "metadata": {},
   "outputs": [],
   "source": [
    "import pandas as pd\n",
    "from os.path import join"
   ]
  },
  {
   "cell_type": "code",
   "execution_count": 2,
   "id": "0d9df308",
   "metadata": {},
   "outputs": [],
   "source": [
    "columns=['Dependencia Despacha', 'Desc. Dependencia Despacha', 'Orden Despacho/Devolucion',\n",
    "         'Cod Instalacion', 'Desc. Cod Instalacion', 'Dependencia Recibe', 'Desc. Dependencia Recibe',\n",
    "         'Sublinea', 'Desc. Sublinea', 'Plu', 'Desc. Plu', 'Flujo Logístico',       \n",
    "         'Planta Industria', 'Desc. Planta Industria', '# Unidades Despachadas',\n",
    "         '$ CtoCantDespachada']\n",
    "conv={\"Dependencia Despacha\":str,\"Orden Despacho/Devolucion\":str,\"Cod Instalacion\":str,\"Dependencia Recibe\":str,\"Sublinea\":str,\"Plu\":str}\n",
    "rows=1"
   ]
  },
  {
   "cell_type": "code",
   "execution_count": 3,
   "id": "8c08d237",
   "metadata": {},
   "outputs": [],
   "source": [
    "path=r\"C:\\Users\\jcleiva\\Documents\\Reportes Base\\2023\\P&G\\Despachos\"\n",
    "filename=\"Despachos y Devoluciones Industria (2).xlsx\""
   ]
  },
  {
   "cell_type": "code",
   "execution_count": 4,
   "id": "41f72e73",
   "metadata": {},
   "outputs": [],
   "source": [
    "import win32com.client\n",
    "import os"
   ]
  },
  {
   "cell_type": "code",
   "execution_count": 6,
   "id": "63b91876",
   "metadata": {},
   "outputs": [],
   "source": [
    "xl = win32com.client.DispatchEx(\"Excel.Application\")\n",
    "wb = xl.workbooks.open(join(path,filename))\n",
    "xl.Visible = True\n",
    "wb.sheets(\"Despachos y Devoluciones Indust\").cells(1,1).Value=\"Test\"\n",
    "#wb.Save\n",
    "wb.Close(SaveChanges=1)\n",
    "xl.Quit()"
   ]
  },
  {
   "cell_type": "code",
   "execution_count": 7,
   "id": "37cacba8",
   "metadata": {},
   "outputs": [
    {
     "data": {
      "text/html": [
       "<div>\n",
       "<style scoped>\n",
       "    .dataframe tbody tr th:only-of-type {\n",
       "        vertical-align: middle;\n",
       "    }\n",
       "\n",
       "    .dataframe tbody tr th {\n",
       "        vertical-align: top;\n",
       "    }\n",
       "\n",
       "    .dataframe thead th {\n",
       "        text-align: right;\n",
       "    }\n",
       "</style>\n",
       "<table border=\"1\" class=\"dataframe\">\n",
       "  <thead>\n",
       "    <tr style=\"text-align: right;\">\n",
       "      <th></th>\n",
       "      <th>Dependencia Despacha</th>\n",
       "      <th>Desc. Dependencia Despacha</th>\n",
       "      <th>Orden Despacho/Devolucion</th>\n",
       "      <th>Cod Instalacion</th>\n",
       "      <th>Desc. Cod Instalacion</th>\n",
       "      <th>Dependencia Recibe</th>\n",
       "      <th>Desc. Dependencia Recibe</th>\n",
       "      <th>Sublinea</th>\n",
       "      <th>Desc. Sublinea</th>\n",
       "      <th>Plu</th>\n",
       "      <th>Desc. Plu</th>\n",
       "      <th>Flujo Logístico</th>\n",
       "      <th>Planta Industria</th>\n",
       "      <th>Desc. Planta Industria</th>\n",
       "      <th># Unidades Despachadas</th>\n",
       "      <th>$ CtoCantDespachada</th>\n",
       "    </tr>\n",
       "  </thead>\n",
       "  <tbody>\n",
       "    <tr>\n",
       "      <th>0</th>\n",
       "      <td>910</td>\n",
       "      <td>CEDI VIRTUAL DESPACHOS MEDELLI</td>\n",
       "      <td>2021641851</td>\n",
       "      <td>39</td>\n",
       "      <td>NA                                            ...</td>\n",
       "      <td>33</td>\n",
       "      <td>EXITO POBLADO</td>\n",
       "      <td>88</td>\n",
       "      <td>PANADERIA</td>\n",
       "      <td>738851</td>\n",
       "      <td>PAN PRIMAVERA QUESO PREFORMADO</td>\n",
       "      <td>ALMACENAMIENTO</td>\n",
       "      <td>7080</td>\n",
       "      <td>PLANTA PANADERIA MEDELLIN</td>\n",
       "      <td>120</td>\n",
       "      <td>232080</td>\n",
       "    </tr>\n",
       "  </tbody>\n",
       "</table>\n",
       "</div>"
      ],
      "text/plain": [
       "  Dependencia Despacha      Desc. Dependencia Despacha  \\\n",
       "0                  910  CEDI VIRTUAL DESPACHOS MEDELLI   \n",
       "\n",
       "  Orden Despacho/Devolucion Cod Instalacion  \\\n",
       "0                2021641851      39           \n",
       "\n",
       "                               Desc. Cod Instalacion Dependencia Recibe  \\\n",
       "0  NA                                            ...                 33   \n",
       "\n",
       "  Desc. Dependencia Recibe Sublinea Desc. Sublinea     Plu  \\\n",
       "0            EXITO POBLADO       88      PANADERIA  738851   \n",
       "\n",
       "                        Desc. Plu Flujo Logístico Planta Industria  \\\n",
       "0  PAN PRIMAVERA QUESO PREFORMADO  ALMACENAMIENTO             7080   \n",
       "\n",
       "      Desc. Planta Industria # Unidades Despachadas $ CtoCantDespachada  \n",
       "0  PLANTA PANADERIA MEDELLIN                    120              232080  "
      ]
     },
     "execution_count": 7,
     "metadata": {},
     "output_type": "execute_result"
    }
   ],
   "source": [
    "pd.read_excel(join(path,filename),skiprows=48756,header=None,names=columns,converters=dict(zip(columns,[str]*len(columns))),nrows=1)"
   ]
  },
  {
   "cell_type": "code",
   "execution_count": null,
   "id": "0cdc8642",
   "metadata": {},
   "outputs": [],
   "source": []
  }
 ],
 "metadata": {
  "kernelspec": {
   "display_name": "Python 3 (ipykernel)",
   "language": "python",
   "name": "python3"
  },
  "language_info": {
   "codemirror_mode": {
    "name": "ipython",
    "version": 3
   },
   "file_extension": ".py",
   "mimetype": "text/x-python",
   "name": "python",
   "nbconvert_exporter": "python",
   "pygments_lexer": "ipython3",
   "version": "3.10.11"
  }
 },
 "nbformat": 4,
 "nbformat_minor": 5
}
