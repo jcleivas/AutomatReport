{
 "cells": [
  {
   "cell_type": "code",
   "execution_count": 1,
   "id": "92a670a4",
   "metadata": {},
   "outputs": [],
   "source": [
    "import pandas as pd\n",
    "from datetime import datetime, timedelta"
   ]
  },
  {
   "cell_type": "code",
   "execution_count": 2,
   "id": "59c8bb79",
   "metadata": {},
   "outputs": [],
   "source": [
    "ruta=r\"C:\\Users\\jcleiva\\Documents\\Reportes Base\""
   ]
  },
  {
   "cell_type": "code",
   "execution_count": 3,
   "id": "383b80cc",
   "metadata": {},
   "outputs": [],
   "source": [
    "rDesp=r\"C:\\Users\\jcleiva\\Documents\\Reportes Base\\{}\\Despachos\\{}. Despachos {}Q.xlsx\""
   ]
  },
  {
   "cell_type": "code",
   "execution_count": 4,
   "id": "35cad7a4",
   "metadata": {},
   "outputs": [],
   "source": [
    "cDesp=[\"Destinatario de mercancías\",\"Entrega\",\"    # PLU\",\"Material\",\"Marca Formato\"]\n",
    "cvDesp={\"Entrega\":str,\"    # PLU\":str,\"Material\":str}\n",
    "convEjec={\"Centro de beneficio\":str,\"Número de cuenta\":str,\"Material\":str,\"Centro\":str}"
   ]
  },
  {
   "cell_type": "code",
   "execution_count": 5,
   "id": "7b36f131",
   "metadata": {},
   "outputs": [],
   "source": [
    "def ejecCEBEAgg(m,y,ruta):\n",
    "    colsEjec=[\"Centro de beneficio\",\"Número de cuenta\",\"Denominación\",\"Material\",\"Centro\",\"Clase mov. MM\",\"En moneda local centro de beneficio\",\"Cantidad\"]\n",
    "    convEjec={\"Centro de beneficio\":str,\"Número de cuenta\":str,\"Material\":str,\"Centro\":str}\n",
    "    colsTemp=[\"Centro de beneficio\",\"Número de cuenta\",\"Denominación\",\"Material\",\"Centro\",\"Clase mov. MM\"]\n",
    "    tiempo=(y,m)\n",
    "    direc={\"Costo de Ventas Industria CEBE.xlsx\":\"Costo de Ventas\",\n",
    "           \"Ingreso Industria CEBE.xlsx\":\"Ingresos\",\n",
    "           \"Gasto Industria CEBE.xlsx\":\"Gasto\",\n",
    "           \"Cuenta 7 Industria CEBE.xlsx\":\"Ejecución\"}\n",
    "    \n",
    "    #for file in [\"Costo de Ventas Industria CEBE.xlsx\",\"Ingreso Industria CEBE.xlsx\",\"Gasto Industria CEBE.xlsx\",\"Cuenta 7 Industria CEBE.xlsx\"]:\n",
    "    for file in [\"Costo de Ventas Industria CEBE.xlsx\"]:\n",
    "        if file==\"Costo de Ventas Industria CEBE.xlsx\":\n",
    "            cols=colsEjec+[\"Documento comercial\"]\n",
    "            conv=convEjec\n",
    "            conv[\"Documento comercial\"]=str\n",
    "            cTemp=colsTemp+[\"Documento comercial\"]\n",
    "        else:\n",
    "            cols=colsEjec\n",
    "            conv=convEjec\n",
    "            cTemp=colsTemp\n",
    "            \n",
    "        dfEj=pd.read_excel(ruta+\"\\{}\\{}\\{}. {}\".format(tiempo[0],direc[file],tiempo[1],file),\n",
    "                           usecols=cols,\n",
    "                           converters=conv)\n",
    "        \n",
    "        for i in dfEj.columns:\n",
    "            if dfEj[i].dtype == \"object\":\n",
    "                dfEj[i].fillna(\"\",inplace=True)\n",
    "            elif (dfEj[i].dtype == \"float64\") or (dfEj[i].dtype == \"int64\"):\n",
    "                dfEj[i].fillna(0.0,inplace=True)\n",
    "        \n",
    "        dfEj=dfEj.groupby(cTemp,dropna=False).sum().reset_index()\n",
    "        \n",
    "        dfEj[\"Fecha\"]=datetime(tiempo[0],tiempo[1],1)\n",
    "        dfEj=dfEj.rename(columns={\"En moneda local centro de beneficio\":\"Importe\"})\n",
    "        \n",
    "        dfEj.to_excel(ruta+\"\\{}\\{}\\{}. {} (Agg).xlsx\".format(tiempo[0],direc[file],tiempo[1],file[:-5]),index=None)\n",
    "        print(\"Archivo: \"+\"\\{}\\{}\\{}. {} (Agg).xlsx\".format(tiempo[0],direc[file],tiempo[1],file[:-5])+\" generado con éxito\")\n",
    "        \n",
    "        if file==\"Costo de Ventas Industria CEBE.xlsx\":\n",
    "            dfDespQ=pd.read_excel(rDesp.format(y,m,1),converters=cvDesp,usecols=cDesp)\n",
    "            dfDespQ=pd.concat([dfDespQ,pd.read_excel(rDesp.format(y,m,2),converters=cvDesp,usecols=cDesp)])\n",
    "            dfDespQ=dfDespQ.drop_duplicates()\n",
    "            dfDespQ=dfDespQ.rename(columns={\"Entrega\":\"Documento comercial\",\"    # PLU\":\"PLU Industria\"})\n",
    "        \n",
    "            if not dfEj.merge(dfDespQ,on=[\"Documento comercial\",\"Material\"],how=\"left\").shape[0]==dfEj.shape[0]:\n",
    "                raise Exception(\"Despachos por Q inserta filas\")\n",
    "\n",
    "            dfEj=dfEj.merge(dfDespQ,on=[\"Documento comercial\",\"Material\"],how=\"left\")\n",
    "\n",
    "            del dfEj[\"Documento comercial\"]\n",
    "            dfEj[\"PLU Industria\"]=dfEj[\"PLU Industria\"].str.lstrip(\"0\")\n",
    "            \n",
    "            for i in dfEj.columns:\n",
    "                if dfEj[i].dtype == \"object\":\n",
    "                    dfEj[i].fillna(\"\",inplace=True)\n",
    "                elif (dfEj[i].dtype == \"float64\") or (dfEj[i].dtype == \"int64\"):\n",
    "                    dfEj[i].fillna(0.0,inplace=True)\n",
    "            \n",
    "            dfEj=dfEj.groupby(['Centro de beneficio', 'Número de cuenta', 'Denominación', \n",
    "                               'Material','Centro', 'Clase mov. MM', 'Fecha',\n",
    "                               'Destinatario de mercancías', 'PLU Industria', 'Marca Formato']).sum().reset_index()\n",
    "            \n",
    "            dfEj.to_excel(ruta+\"\\{}\\{}\\{}. {} (PLU).xlsx\".format(tiempo[0],direc[file],tiempo[1],file[:-5]),index=None)\n",
    "            print(\"Archivo: \"+\"\\{}\\{}\\{}. {} (PLU).xlsx\".format(tiempo[0],direc[file],tiempo[1],file[:-5])+\" generado con éxito\")"
   ]
  },
  {
   "cell_type": "code",
   "execution_count": 6,
   "id": "6c620a8c",
   "metadata": {},
   "outputs": [
    {
     "name": "stdout",
     "output_type": "stream",
     "text": [
      "Archivo: \\2022\\Costo de Ventas\\8. Costo de Ventas Industria CEBE (Agg).xlsx generado con éxito\n",
      "Archivo: \\2022\\Costo de Ventas\\8. Costo de Ventas Industria CEBE (PLU).xlsx generado con éxito\n"
     ]
    }
   ],
   "source": [
    "dfEj=ejecCEBEAgg(8,2022,ruta)"
   ]
  },
  {
   "cell_type": "code",
   "execution_count": 7,
   "id": "37400379",
   "metadata": {},
   "outputs": [
    {
     "ename": "AttributeError",
     "evalue": "'NoneType' object has no attribute 'head'",
     "output_type": "error",
     "traceback": [
      "\u001b[1;31m---------------------------------------------------------------------------\u001b[0m",
      "\u001b[1;31mAttributeError\u001b[0m                            Traceback (most recent call last)",
      "Cell \u001b[1;32mIn[7], line 1\u001b[0m\n\u001b[1;32m----> 1\u001b[0m \u001b[43mdfEj\u001b[49m\u001b[38;5;241;43m.\u001b[39;49m\u001b[43mhead\u001b[49m()\n",
      "\u001b[1;31mAttributeError\u001b[0m: 'NoneType' object has no attribute 'head'"
     ]
    }
   ],
   "source": [
    "dfEj.head()"
   ]
  },
  {
   "cell_type": "code",
   "execution_count": null,
   "id": "8ab44aca",
   "metadata": {},
   "outputs": [],
   "source": []
  }
 ],
 "metadata": {
  "kernelspec": {
   "display_name": "Python 3 (ipykernel)",
   "language": "python",
   "name": "python3"
  },
  "language_info": {
   "codemirror_mode": {
    "name": "ipython",
    "version": 3
   },
   "file_extension": ".py",
   "mimetype": "text/x-python",
   "name": "python",
   "nbconvert_exporter": "python",
   "pygments_lexer": "ipython3",
   "version": "3.10.11"
  }
 },
 "nbformat": 4,
 "nbformat_minor": 5
}
