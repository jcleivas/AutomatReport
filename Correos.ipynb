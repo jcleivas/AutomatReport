{
 "cells": [
  {
   "cell_type": "code",
   "execution_count": 1,
   "id": "f64b6e99",
   "metadata": {},
   "outputs": [],
   "source": [
    "import win32com.client as win32\n",
    "from PIL import ImageGrab\n",
    "import os"
   ]
  },
  {
   "cell_type": "code",
   "execution_count": 2,
   "id": "b777828a",
   "metadata": {},
   "outputs": [],
   "source": [
    "#Cuenta 7\n",
    "\n",
    "correoCuenta7=\"\"\"<div class=\"WordSection1\">\n",
    "<br>\n",
    "<br>\n",
    "<p class=\"MsoNormal\">Buen día equipo,<br></p>\n",
    "<p class=\"MsoNormal\">Adjunto el avance en la ejecución de la cuenta 7. La proyección de la variación suponiendo un costo real similar al del mes anterior son\n",
    "<b><span style=\"font-size:12.0pt\">{:,.0f} MM COP</span></b>, mientras que versus la meta planteada son\n",
    "<b><span style=\"font-size:12.0pt\">{:,.0f} MM COP</span></b>.<o:p></o:p></p>\n",
    "<p class=\"MsoNormal\"><o:p>&nbsp;</o:p></p>\n",
    "<p class=\"MsoNormal\" align=\"center\" style=\"text-align:center\"><img width=\"743\" height=\"236\" style=\"width:7.7395in;height:2.4583in\" id=\"Imagen_x0020_1\" src=\"{}\" alt=\"Tabla\n",
    "\n",
    "Descripción generada automáticamente\"><o:p></o:p></p>\n",
    "<p class=\"MsoNormal\" align=\"center\" style=\"text-align:center\"><o:p>&nbsp;</o:p></p>\n",
    "<p class=\"MsoNormal\"><o:p>&nbsp;</o:p></p>\n",
    "<p class=MsoNormal style='mso-margin-top-alt:auto;mso-margin-bottom-alt:auto'>\n",
    "El link del reporte es el siguiente: \n",
    "<a href=\"https://grupoexito-my.sharepoint.com/:x:/g/personal/jcleiva_grupo-exito_com/ET_eH6v66-1IvZ3_z2MKOo8BDtKp8_Vul_RibHzKbxKM1A?e=898umy\"><span class=MsoSmartlink>Ejecución Cuenta 7 (Lite).xlsx</span></a> &nbsp;<o:p></o:p></p>\n",
    "\n",
    "<p class=\"MsoNormal\">Cordial saludo,\n",
    "<br>JuanL</p>\n",
    "</div>\"\"\"\n",
    "\n",
    "filenameC7=r\"C:\\Users\\jcleiva\\OneDrive - Grupo-exito.com\\Escritorio\\Proyectos\\Reportes\\Reportes Industria\\Ejecución Cuenta 7 (Lite).xlsx\"\n",
    "path_to_img=r\"C:\\Users\\jcleiva\\OneDrive - Grupo-exito.com\\Escritorio\\Proyectos\\Reportes\\Imagenes\"\n",
    "\n",
    "xl = win32.DispatchEx(\"Excel.Application\")\n",
    "wb = xl.workbooks.open(filenameC7)\n",
    "xl.Visible = True\n",
    "wb.RefreshAll()\n",
    "\n",
    "ws = wb.Worksheets['Resumen STD']\n",
    "\n",
    "ws.Range(ws.Cells(23,2),ws.Cells(36,11)).CopyPicture(Format = 2)  \n",
    "img = ImageGrab.grabclipboard()\n",
    "imgFile = os.path.join(path_to_img,'Variación Cuenta 7.jpg')\n",
    "img.save(imgFile)\n",
    "varMesAnt=ws.Cells(36,9).value\n",
    "varMesMeta=ws.Cells(36,11).value\n",
    "wb.Close(True)\n",
    "xl.Quit()\n",
    "\n",
    "outlook = win32.Dispatch('outlook.application')\n",
    "mail = outlook.CreateItem(0)\n",
    "mail.To = 'jcleiva@Grupo-exito.com'\n",
    "mail.Subject = 'Informe Costos de Conversión (Cuenta 7)'\n",
    "mail.HTMLBody = correoCuenta7.format(varMesAnt,varMesMeta,path_to_img+\"\\Variación Cuenta 7.jpg\")\n",
    "\n",
    "mail.Send()"
   ]
  },
  {
   "cell_type": "code",
   "execution_count": 5,
   "id": "6bcca53e",
   "metadata": {},
   "outputs": [
    {
     "data": {
      "text/html": [
       "<div class=\"WordSection1\">\n",
       "<br>\n",
       "<br>\n",
       "<p class=\"MsoNormal\">Buen día equipo,<br></p>\n",
       "<p class=\"MsoNormal\">Adjunto el avance en la ejecución de la cuenta 7. La proyección de la variación suponiendo un costo real similar al del mes anterior son\n",
       "<b><span style=\"font-size:12.0pt\">{:,.0f} MM COP</span></b>, mientras que versus la meta planteada son\n",
       "<b><span style=\"font-size:12.0pt\">{:,.0f} MM COP</span></b>.<o:p></o:p></p>\n",
       "<p class=\"MsoNormal\"><o:p>&nbsp;</o:p></p>\n",
       "<p class=\"MsoNormal\" align=\"center\" style=\"text-align:center\"><img width=\"743\" height=\"236\" style=\"width:7.7395in;height:2.4583in\" id=\"Imagen_x0020_1\" src=\"{}\" alt=\"Tabla\n",
       "\n",
       "Descripción generada automáticamente\"><o:p></o:p></p>\n",
       "<p class=\"MsoNormal\" align=\"center\" style=\"text-align:center\"><o:p>&nbsp;</o:p></p>\n",
       "<p class=\"MsoNormal\"><o:p>&nbsp;</o:p></p>\n",
       "<p class=MsoNormal style='mso-margin-top-alt:auto;mso-margin-bottom-alt:auto'>\n",
       "El link del reporte es el siguiente: \n",
       "<a href=\"https://grupoexito-my.sharepoint.com/:x:/g/personal/jcleiva_grupo-exito_com/ET_eH6v66-1IvZ3_z2MKOo8BDtKp8_Vul_RibHzKbxKM1A?e=898umy\"><span class=MsoSmartlink>Ejecución Cuenta 7 (Lite).xlsx</span></a> &nbsp;<o:p></o:p></p>\n",
       "\n",
       "<p class=\"MsoNormal\">Cordial saludo,\n",
       "<br>JuanL</p>\n",
       "</div>\n"
      ],
      "text/plain": [
       "<IPython.core.display.HTML object>"
      ]
     },
     "metadata": {},
     "output_type": "display_data"
    }
   ],
   "source": [
    "#Consumos\n",
    "\n",
    "correoCuenta7=\"\"\"<div class=\"WordSection1\">\n",
    "<br>\n",
    "<br>\n",
    "<p class=\"MsoNormal\">Buen día equipo,<br></p>\n",
    "<p class=\"MsoNormal\">Adjunto el avance en la ejecución de la cuenta 7. La proyección de la variación suponiendo un costo real similar al del mes anterior son\n",
    "<b><span style=\"font-size:12.0pt\">{:,.0f} MM COP</span></b>, mientras que versus la meta planteada son\n",
    "<b><span style=\"font-size:12.0pt\">{:,.0f} MM COP</span></b>.<o:p></o:p></p>\n",
    "<p class=\"MsoNormal\"><o:p>&nbsp;</o:p></p>\n",
    "<p class=\"MsoNormal\" align=\"center\" style=\"text-align:center\"><img width=\"743\" height=\"236\" style=\"width:7.7395in;height:2.4583in\" id=\"Imagen_x0020_1\" src=\"{}\" alt=\"Tabla\n",
    "\n",
    "Descripción generada automáticamente\"><o:p></o:p></p>\n",
    "<p class=\"MsoNormal\" align=\"center\" style=\"text-align:center\"><o:p>&nbsp;</o:p></p>\n",
    "<p class=\"MsoNormal\"><o:p>&nbsp;</o:p></p>\n",
    "<p class=MsoNormal style='mso-margin-top-alt:auto;mso-margin-bottom-alt:auto'>\n",
    "El link del reporte es el siguiente: \n",
    "<a href=\"https://grupoexito-my.sharepoint.com/:x:/g/personal/jcleiva_grupo-exito_com/ET_eH6v66-1IvZ3_z2MKOo8BDtKp8_Vul_RibHzKbxKM1A?e=898umy\"><span class=MsoSmartlink>Ejecución Cuenta 7 (Lite).xlsx</span></a> &nbsp;<o:p></o:p></p>\n",
    "\n",
    "<p class=\"MsoNormal\">Cordial saludo,\n",
    "<br>JuanL</p>\n",
    "</div>\"\"\"\n",
    "\n",
    "filenameC7=r\"C:\\Users\\jcleiva\\OneDrive - Grupo-exito.com\\Escritorio\\Proyectos\\Reportes\\Reportes Industria\\Reporte de Consumos y Precios.xlsx\"\n",
    "path_to_img=r\"C:\\Users\\jcleiva\\OneDrive - Grupo-exito.com\\Escritorio\\Proyectos\\Reportes\\Imagenes\"\n",
    "\n",
    "xl = win32.DispatchEx(\"Excel.Application\")\n",
    "wb = xl.workbooks.open(filenameC7)\n",
    "xl.Visible = True\n",
    "wb.RefreshAll()\n",
    "\n",
    "ws = wb.Worksheets['Resumen STD']\n",
    "\n",
    "ws.Range(ws.Cells(23,2),ws.Cells(36,11)).CopyPicture(Format = 2)  \n",
    "img = ImageGrab.grabclipboard()\n",
    "imgFile = os.path.join(path_to_img,'Variación Cuenta 7.jpg')\n",
    "img.save(imgFile)\n",
    "varMesAnt=ws.Cells(36,9).value\n",
    "varMesMeta=ws.Cells(36,11).value\n",
    "wb.Close(True)\n",
    "xl.Quit()\n",
    "\n",
    "outlook = win32.Dispatch('outlook.application')\n",
    "mail = outlook.CreateItem(0)\n",
    "mail.To = 'jcleiva@Grupo-exito.com'\n",
    "mail.Subject = 'Informe Costos de Conversión (Cuenta 7)'\n",
    "mail.HTMLBody = correoCuenta7.format(varMesAnt,varMesMeta,path_to_img+\"\\Consumos.jpg\")\n",
    "\n",
    "mail.Send()"
   ]
  },
  {
   "cell_type": "code",
   "execution_count": null,
   "id": "a39a6eb4",
   "metadata": {},
   "outputs": [],
   "source": []
  },
  {
   "cell_type": "code",
   "execution_count": 3,
   "id": "37b756cc",
   "metadata": {},
   "outputs": [
    {
     "data": {
      "text/plain": [
       "1628.4655585000003"
      ]
     },
     "execution_count": 3,
     "metadata": {},
     "output_type": "execute_result"
    }
   ],
   "source": [
    "varMesAnt"
   ]
  },
  {
   "cell_type": "code",
   "execution_count": null,
   "id": "60af9032",
   "metadata": {},
   "outputs": [],
   "source": []
  }
 ],
 "metadata": {
  "kernelspec": {
   "display_name": "Python 3 (ipykernel)",
   "language": "python",
   "name": "python3"
  },
  "language_info": {
   "codemirror_mode": {
    "name": "ipython",
    "version": 3
   },
   "file_extension": ".py",
   "mimetype": "text/x-python",
   "name": "python",
   "nbconvert_exporter": "python",
   "pygments_lexer": "ipython3",
   "version": "3.10.11"
  }
 },
 "nbformat": 4,
 "nbformat_minor": 5
}
