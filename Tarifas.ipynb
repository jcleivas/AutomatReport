{
 "cells": [
  {
   "cell_type": "code",
   "execution_count": 6,
   "id": "867e6551",
   "metadata": {},
   "outputs": [],
   "source": [
    "import subprocess\n",
    "import shutil\n",
    "import time\n",
    "import win32com.client\n",
    "import pythoncom\n",
    "import argparse\n",
    "from calendar import monthrange\n",
    "from datetime import datetime, timedelta\n",
    "import pandas as pd\n",
    "import numpy as np\n",
    "import Correos"
   ]
  },
  {
   "cell_type": "code",
   "execution_count": 7,
   "id": "882e0863",
   "metadata": {},
   "outputs": [],
   "source": [
    "def sapConnection(cSap):\n",
    "    path=r\"C:\\Program Files (x86)\\SAP\\FrontEnd\\SAPgui\\saplogon.exe\"\n",
    "    subprocess.Popen(path)\n",
    "    time.sleep(5)\n",
    "    SapGuiAuto = win32com.client.GetObject(\"SAPGUI\")\n",
    "    application = SapGuiAuto.GetScriptingEngine\n",
    "\n",
    "    try:\n",
    "        connection = application.Children(0)\n",
    "\n",
    "        i=0\n",
    "        print(\"Cerrando {} sesion(es) activa(s)\".format(int(connection.children.count)))\n",
    "        while int(connection.children.count) > 0 and i <5:\n",
    "            session = connection.Children(0)\n",
    "            session.findbyid(\"wnd[0]\").close()\n",
    "            session.findById(\"wnd[1]/usr/btnSPOP-OPTION1\").press()\n",
    "            i=i+1\n",
    "                \n",
    "    except Exception as e:\n",
    "        pass\n",
    "        \n",
    "    connection = application.OpenConnection(\"RISE - ERP Produccion\")\n",
    "    session = connection.Children(0)\n",
    "    session.findById(\"wnd[0]\").maximize()\n",
    "    session.findById(\"wnd[0]/usr/txtRSYST-BNAME\").text = \"1030611534\"\n",
    "    session.findById(\"wnd[0]/usr/pwdRSYST-BCODE\").text = \"Tebis.1030611534\"\n",
    "    session.findById(\"wnd[0]\").sendVKey(0)\n",
    "    return session"
   ]
  },
  {
   "cell_type": "code",
   "execution_count": 8,
   "id": "5aa8e36e",
   "metadata": {},
   "outputs": [],
   "source": [
    "session=sapConnection(False)"
   ]
  },
  {
   "cell_type": "code",
   "execution_count": 9,
   "id": "42d42ad8",
   "metadata": {},
   "outputs": [],
   "source": [
    "df=pd.read_excel(\"Plano tarifas Ad.xlsx\",converters={\"Centro de coste\":str,\"Clase Actividad\":str})"
   ]
  },
  {
   "cell_type": "code",
   "execution_count": 10,
   "id": "da97e4c4",
   "metadata": {},
   "outputs": [],
   "source": [
    "for i in df.values:\n",
    "    session.findById(\"wnd[0]/tbar[0]/okcd\").text = \"kp26\"\n",
    "    session.findById(\"wnd[0]\").sendVKey(0)\n",
    "    \n",
    "    try:\n",
    "        session.findById(\"wnd[1]/usr/sub:SAPLSPO4:0300/ctxtSVALD-VALUE[0,21]\").text = \"CO10\"\n",
    "        session.findById(\"wnd[1]/tbar[0]/btn[0]\").press()\n",
    "    except:\n",
    "        pass\n",
    "    \n",
    "    session.findById(\"wnd[0]/tbar[1]/btn[32]\").press()\n",
    "    session.findById(\"wnd[0]/tbar[1]/btn[32]\").press()\n",
    "\n",
    "    session.findById(\"wnd[0]/usr/sub:SAPLKPP0:1000/ctxtKPP0B-VALUE[0,21]\").text = \"0\"\n",
    "    session.findById(\"wnd[0]/usr/sub:SAPLKPP0:1000/ctxtKPP0B-VALUE[1,21]\").text = \"1\"\n",
    "    session.findById(\"wnd[0]/usr/sub:SAPLKPP0:1000/ctxtKPP0B-VALUE[2,21]\").text = \"12\"\n",
    "    session.findById(\"wnd[0]/usr/sub:SAPLKPP0:1000/ctxtKPP0B-VALUE[3,21]\").text = \"2023\"\n",
    "    session.findById(\"wnd[0]/usr/sub:SAPLKPP0:1000/ctxtKPP0B-VALUE[5,21]\").text = i[0]\n",
    "    session.findById(\"wnd[0]/usr/sub:SAPLKPP0:1000/ctxtKPP0B-VALUE[8,21]\").text = i[1]\n",
    "\n",
    "    session.findById(\"wnd[0]\").sendVKey(0)\n",
    "\n",
    "    session.findById(\"wnd[0]/tbar[1]/btn[6]\").press()\n",
    "\n",
    "    for j in range(7,12):\n",
    "        session.findById(\"wnd[0]/usr/tblSAPLKPP2TABCONTROL/txtZ-BDC06[5,{}]\".format(j)).text = i[2]\n",
    "\n",
    "    session.findById(\"wnd[0]\").sendVKey(0)\n",
    "\n",
    "    session.findById(\"wnd[0]/tbar[0]/btn[11]\").press()\n",
    "    session.findById(\"wnd[0]/tbar[0]/btn[12]\").press()\n",
    "    "
   ]
  },
  {
   "cell_type": "code",
   "execution_count": null,
   "id": "a404d3a7",
   "metadata": {},
   "outputs": [],
   "source": []
  },
  {
   "cell_type": "code",
   "execution_count": null,
   "id": "70f634ef",
   "metadata": {},
   "outputs": [],
   "source": []
  },
  {
   "cell_type": "code",
   "execution_count": null,
   "id": "dab428a8",
   "metadata": {},
   "outputs": [],
   "source": []
  },
  {
   "cell_type": "code",
   "execution_count": null,
   "id": "290507b8",
   "metadata": {},
   "outputs": [],
   "source": []
  },
  {
   "cell_type": "code",
   "execution_count": null,
   "id": "b2fd3e2a",
   "metadata": {},
   "outputs": [],
   "source": []
  },
  {
   "cell_type": "code",
   "execution_count": null,
   "id": "6d34b670",
   "metadata": {},
   "outputs": [],
   "source": []
  },
  {
   "cell_type": "code",
   "execution_count": null,
   "id": "052331e2",
   "metadata": {},
   "outputs": [],
   "source": []
  }
 ],
 "metadata": {
  "kernelspec": {
   "display_name": "Python 3 (ipykernel)",
   "language": "python",
   "name": "python3"
  },
  "language_info": {
   "codemirror_mode": {
    "name": "ipython",
    "version": 3
   },
   "file_extension": ".py",
   "mimetype": "text/x-python",
   "name": "python",
   "nbconvert_exporter": "python",
   "pygments_lexer": "ipython3",
   "version": "3.10.11"
  }
 },
 "nbformat": 4,
 "nbformat_minor": 5
}
