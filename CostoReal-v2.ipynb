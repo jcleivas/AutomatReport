{
 "cells": [
  {
   "cell_type": "code",
   "execution_count": 1,
   "id": "36ec7150",
   "metadata": {},
   "outputs": [],
   "source": [
    "import pandas as pd\n",
    "from funciones import month_year_iter"
   ]
  },
  {
   "cell_type": "code",
   "execution_count": 2,
   "id": "562cf00b",
   "metadata": {},
   "outputs": [],
   "source": [
    "rutaR=r\"C:\\Users\\jcleiva\\OneDrive - Grupo-exito.com\\Escritorio\\Proyectos\\Reportes\"\n",
    "\n",
    "cols=[\"Centro\",\"Descripción Centro\", \"Receta\",\"Desc. Receta\",\"Clase\",\"Material\",\"Texto breve material\",\n",
    "      \"Unidad medida base (=EINHEIT)\",\"Cantidad tomada (EINHEIT)\",\"Costo Tomado\"]\n",
    "\n",
    "conv={\"Receta\":str,\"Material\":str}\n",
    "\n",
    "mesA=4\n",
    "yearA=2023\n",
    "mesI=5\n",
    "yearI=2023"
   ]
  },
  {
   "cell_type": "code",
   "execution_count": 3,
   "id": "3ec3de0c",
   "metadata": {},
   "outputs": [
    {
     "name": "stdout",
     "output_type": "stream",
     "text": [
      "(2023, 4)\n"
     ]
    }
   ],
   "source": [
    "for tiempo in month_year_iter(mesA,yearA,mesI,yearI):\n",
    "    df = pd.read_excel(rutaR+\"\\Consumos\\{}\\{}. Consumos.xlsx\".format(tiempo[0],tiempo[1]),usecols=cols,converters=conv)\n",
    "    df=df[~(df[\"Receta\"]==\"No encontrado\")]\n",
    "    df=df.groupby(cols[:-2]).sum().reset_index()\n",
    "    \n",
    "    df[\"Tipo Material\"]=df[\"Material\"].str[0].replace({\"5\":\"PT\",\"3\":\"MP\",\"4\":\"EP\",\"6\":\"ST\",\"P\":\"CONV\",\"2\":\"SP\"})\n",
    "    df=df.rename(columns={\"Cantidad tomada (EINHEIT)\":\"Cantidad Real\",\"Costo Tomado\":\"Costo Real\",\"Unidad medida base (=EINHEIT)\":\"UM\"})\n",
    "    dfPT=df.loc[df[\"Clase\"]==\"Cabecera\",[\"Centro\",\"Descripción Centro\",\"Receta\",\"Cantidad Real\"]].copy().rename(columns={\"Cantidad Real\":\"Cantidad Entregada\"})\n",
    "    df=df.merge(dfPT,on=[\"Centro\",\"Descripción Centro\",\"Receta\"],how=\"left\")\n",
    "    del dfPT\n",
    "    df[\"Factor de uso\"]=df[\"Cantidad Real\"].divide(-df[\"Cantidad Entregada\"])\n",
    "    df=df[~df[\"Cantidad Entregada\"].isna()]\n",
    "    df=df[df[\"Cantidad Real\"]!=0.0]\n",
    "    df[\"Costo Unitario\"]=df[\"Costo Real\"].divide(df[\"Cantidad Real\"])\n",
    "    #del df[\"Cantidad Real\"]\n",
    "    del df[\"Costo Real\"]\n",
    "    del df[\"Cantidad Entregada\"]\n",
    "    aux=df.copy()\n",
    "    iteraciones=10\n",
    "    for i in range(1,iteraciones):\n",
    "        if i == 1:\n",
    "            df=df.rename(columns=dict(zip(df.columns, [j+\"_{}\".format(1) for j in df.columns])))\n",
    "        cabs=df[df[\"Clase_{}\".format(i)]==\"Cabecera\"]\n",
    "        df=df[df[\"Clase_{}\".format(i)]!=\"Cabecera\"]\n",
    "        temp=aux.copy().rename(columns=dict(zip(aux.columns, [j+\"_{}\".format(i+1) for j in aux.columns])))\n",
    "        temp=temp[temp[\"Clase_{}\".format(i+1)]!=\"Cabecera\"]\n",
    "        df=df.merge(temp,how=\"left\",\n",
    "                 left_on=[\"Centro_{}\".format(i),\"Descripción Centro_{}\".format(i),\"Material_{}\".format(i)],\n",
    "                    right_on=[\"Centro_{}\".format(i+1),\"Descripción Centro_{}\".format(i+1),\"Receta_{}\".format(i+1)])\n",
    "        df=pd.concat([cabs,df])\n",
    "        for c in aux.columns:\n",
    "            if c != \"Factor de uso\":\n",
    "                df[c+\"_{}\".format(i+1)].fillna(df[c+\"_{}\".format(i)],inplace=True)\n",
    "            else:\n",
    "                df[c+\"_{}\".format(i+1)].fillna(1,inplace=True)\n",
    "\n",
    "    df[\"Factor de uso\"]=1\n",
    "    for i in range(1,iteraciones+1):\n",
    "        df[\"Factor de uso\"]=df[\"Factor de uso\"]*df[\"Factor de uso_{}\".format(i)]\n",
    "\n",
    "    df[\"Costo Unitario Calculado\"]=df[\"Factor de uso\"]*df[\"Costo Unitario_{}\".format(iteraciones)]\n",
    "    df[\"Costo Unitario Estandar\"]=0\n",
    "    df.loc[df[\"Clase_{}\".format(iteraciones)]==\"Cabecera\",\"Costo Unitario Calculado\"]=0\n",
    "    df.loc[df[\"Clase_{}\".format(iteraciones)]==\"Cabecera\",\"Costo Unitario Estandar\"]=df.loc[df[\"Clase_{}\".format(iteraciones)]==\"Cabecera\",\"Costo Unitario_{}\".format(iteraciones)]\n",
    "\n",
    "    df[\"Cantidad Entregada\"]=0\n",
    "    df.loc[df[\"Clase_{}\".format(iteraciones)]==\"Cabecera\",\"Cantidad Entregada\"]=df.loc[df[\"Clase_{}\".format(iteraciones)]==\"Cabecera\",\"Cantidad Real_{}\".format(iteraciones)]\n",
    "    \n",
    "    df.to_excel(rutaR+\"\\Costo Real\\{}\\{}. Costo Real v2.xlsx\".format(tiempo[0],tiempo[1]),index=None)\n",
    "    print(tiempo)"
   ]
  },
  {
   "cell_type": "code",
   "execution_count": null,
   "id": "69ff05b5",
   "metadata": {},
   "outputs": [],
   "source": []
  }
 ],
 "metadata": {
  "kernelspec": {
   "display_name": "Python 3 (ipykernel)",
   "language": "python",
   "name": "python3"
  },
  "language_info": {
   "codemirror_mode": {
    "name": "ipython",
    "version": 3
   },
   "file_extension": ".py",
   "mimetype": "text/x-python",
   "name": "python",
   "nbconvert_exporter": "python",
   "pygments_lexer": "ipython3",
   "version": "3.10.11"
  }
 },
 "nbformat": 4,
 "nbformat_minor": 5
}
