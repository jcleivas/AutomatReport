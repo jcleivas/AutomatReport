{
 "cells": [
  {
   "cell_type": "code",
   "execution_count": 4,
   "id": "3649d91d",
   "metadata": {},
   "outputs": [],
   "source": [
    "import subprocess\n",
    "import shutil\n",
    "import time\n",
    "import win32com.client\n",
    "import pythoncom\n",
    "import argparse\n",
    "from calendar import monthrange\n",
    "from datetime import datetime, timedelta"
   ]
  },
  {
   "cell_type": "code",
   "execution_count": 5,
   "id": "1559bca1",
   "metadata": {},
   "outputs": [],
   "source": [
    "ruta=r\"C:\\Users\\jcleiva\\OneDrive - Grupo-exito.com\\Escritorio\\Proyectos\"\n",
    "\n",
    "path=r\"C:\\Program Files (x86)\\SAP\\FrontEnd\\SAPgui\\saplogon.exe\"\n",
    "subprocess.Popen(path)\n",
    "time.sleep(5)\n",
    "SapGuiAuto = win32com.client.GetObject(\"SAPGUI\")\n",
    "application = SapGuiAuto.GetScriptingEngine\n",
    "\n",
    "connection = application.OpenConnection(\"RISE - ERP Produccion\")\n",
    "session = connection.Children(0)\n",
    "session.findById(\"wnd[0]\").maximize()\n",
    "session.findById(\"wnd[0]/usr/txtRSYST-BNAME\").text = \"1030611534\"\n",
    "session.findById(\"wnd[0]/usr/pwdRSYST-BCODE\").text = \"Lore.1030611534\"\n",
    "session.findById(\"wnd[0]\").sendVKey(0)"
   ]
  },
  {
   "cell_type": "code",
   "execution_count": 6,
   "id": "1faf8525",
   "metadata": {},
   "outputs": [],
   "source": [
    "session.findById(\"wnd[0]/tbar[0]/okcd\").text = \"/nmm60\"\n",
    "session.findById(\"wnd[0]\").sendVKey(0)\n",
    "\n",
    "session.findById(\"wnd[0]/mbar/menu[2]/menu[0]/menu[0]\").select()\n",
    "session.findById(\"wnd[1]/usr/cntlALV_CONTAINER_1/shellcont/shell\").currentCellRow = 1\n",
    "session.findById(\"wnd[1]/usr/cntlALV_CONTAINER_1/shellcont/shell\").selectedRows = \"1\"\n",
    "session.findById(\"wnd[1]/usr/cntlALV_CONTAINER_1/shellcont/shell\").doubleClickCurrentCell()\n",
    "\n",
    "session.findById(\"wnd[0]\").sendVKey(8)\n",
    "session.findById(\"wnd[0]/usr/cntlGRID1/shellcont/shell\").setCurrentCell(1,\"KTEXT\")\n",
    "session.findById(\"wnd[0]/usr/cntlGRID1/shellcont/shell\").selectedRows = \"1\"\n",
    "session.findById(\"wnd[0]/usr/cntlGRID1/shellcont/shell\").contextMenu()\n",
    "session.findById(\"wnd[0]/usr/cntlGRID1/shellcont/shell\").selectContextMenuItem(\"&XXL\")\n",
    "session.findById(\"wnd[1]/tbar[0]/btn[0]\").press()\n",
    "session.findById(\"wnd[1]/usr/ctxtDY_PATH\").text = ruta+\"\\Maestras\""
   ]
  },
  {
   "cell_type": "code",
   "execution_count": 7,
   "id": "dfe28f6c",
   "metadata": {},
   "outputs": [],
   "source": [
    "session.findById(\"wnd[1]/tbar[0]/btn[0]\").press()"
   ]
  },
  {
   "cell_type": "code",
   "execution_count": 8,
   "id": "54735533",
   "metadata": {},
   "outputs": [
    {
     "ename": "com_error",
     "evalue": "(-2147352567, 'Ocurrió una excepción.', (619, 'SAP Frontend Server', 'The control could not be found by id.', 'C:\\\\Program Files (x86)\\\\SAP\\\\FrontEnd\\\\SAPgui\\\\sapfront.HLP', 393215, 0), None)",
     "output_type": "error",
     "traceback": [
      "\u001b[1;31m---------------------------------------------------------------------------\u001b[0m",
      "\u001b[1;31mcom_error\u001b[0m                                 Traceback (most recent call last)",
      "Cell \u001b[1;32mIn[8], line 1\u001b[0m\n\u001b[1;32m----> 1\u001b[0m \u001b[43msession\u001b[49m\u001b[38;5;241;43m.\u001b[39;49m\u001b[43mfindById\u001b[49m\u001b[43m(\u001b[49m\u001b[38;5;124;43m\"\u001b[39;49m\u001b[38;5;124;43mwnd[1]/tbar[0]/btn[0]\u001b[39;49m\u001b[38;5;124;43m\"\u001b[39;49m\u001b[43m)\u001b[49m\u001b[38;5;241m.\u001b[39mpress()\n",
      "File \u001b[1;32m<COMObject <unknown>>:2\u001b[0m, in \u001b[0;36mfindById\u001b[1;34m(self, *args)\u001b[0m\n",
      "\u001b[1;31mcom_error\u001b[0m: (-2147352567, 'Ocurrió una excepción.', (619, 'SAP Frontend Server', 'The control could not be found by id.', 'C:\\\\Program Files (x86)\\\\SAP\\\\FrontEnd\\\\SAPgui\\\\sapfront.HLP', 393215, 0), None)"
     ]
    }
   ],
   "source": [
    "session.findById(\"wnd[1]/tbar[0]/btn[0]\").press()"
   ]
  }
 ],
 "metadata": {
  "kernelspec": {
   "display_name": "Python 3 (ipykernel)",
   "language": "python",
   "name": "python3"
  },
  "language_info": {
   "codemirror_mode": {
    "name": "ipython",
    "version": 3
   },
   "file_extension": ".py",
   "mimetype": "text/x-python",
   "name": "python",
   "nbconvert_exporter": "python",
   "pygments_lexer": "ipython3",
   "version": "3.10.9"
  }
 },
 "nbformat": 4,
 "nbformat_minor": 5
}
