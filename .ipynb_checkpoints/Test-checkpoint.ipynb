{
 "cells": [
  {
   "cell_type": "code",
   "execution_count": 1,
   "id": "fa920f2b",
   "metadata": {},
   "outputs": [],
   "source": [
    "import pandas as pd\n",
    "from datetime import datetime"
   ]
  },
  {
   "cell_type": "code",
   "execution_count": 2,
   "id": "5e949bba",
   "metadata": {},
   "outputs": [],
   "source": [
    "def month_year_iter(start_month, start_year, end_month, end_year):\n",
    "    ym_start= 12*start_year + start_month - 1\n",
    "    ym_end= 12*end_year + end_month - 1\n",
    "    for ym in range(ym_start, ym_end):\n",
    "        y, m = divmod(ym, 12)\n",
    "        yield y, m+1"
   ]
  },
  {
   "cell_type": "code",
   "execution_count": 3,
   "id": "4757876f",
   "metadata": {},
   "outputs": [],
   "source": [
    "rCEBE=r\"C:\\Users\\jcleiva\\Documents\\Reportes Base\\{}\\Costo de Ventas\\{}. Costo de Ventas Industria CEBE.xlsx\"\n",
    "rDesp=r\"C:\\Users\\jcleiva\\Documents\\Reportes Base\\{}\\Despachos\\{}. Despachos {}Q.xlsx\"\n",
    "rDest=r\"C:\\Users\\jcleiva\\Documents\\Reportes Base\\{}\\Diferencia SAP-SINCO\\{}. Diferencia SAP-SINCO.xlsx\"\n",
    "rM=r\"C:\\Users\\jcleiva\\Documents\\Reportes Base\\Maestras\\{}\""
   ]
  },
  {
   "cell_type": "code",
   "execution_count": 4,
   "id": "db6a9c43",
   "metadata": {},
   "outputs": [],
   "source": [
    "rcCols=[\"Documento comercial\",\"Centro\",\"Número de cuenta\",\"Denominación\",\"Centro de beneficio\",\n",
    "        \"Material\",\"En moneda local centro de beneficio\",\"Cantidad\"]\n",
    "rcConv={\"Documento comercial\":str,\"Número de cuenta\":str,\"Centro\":str,\"Centro de beneficio\":str,\"Material\":str}"
   ]
  },
  {
   "cell_type": "code",
   "execution_count": 5,
   "id": "ce08c39a",
   "metadata": {},
   "outputs": [],
   "source": [
    "rdCols=[\"Entrega\",\"N° Ped EDI\",\"Destinatario de mercancías\",\"    # PLU\",\"Material\",\"Número de material\",\"Cantidad entrega\",\n",
    "       \"Peso neto\",\"SBL\",\"Fe.SM real\",\"V.Neto\"]\n",
    "rdConv={\"Entrega\":str,\"N° Ped EDI\":str,\"Destinatario de mercancías\":str,\"    # PLU\":str,\"Número de material\":str,\"SBL\":str,\n",
    "       \"Material\":str}"
   ]
  },
  {
   "cell_type": "code",
   "execution_count": 6,
   "id": "f1e2e829",
   "metadata": {},
   "outputs": [],
   "source": [
    "mesA=9\n",
    "yearA=2023\n",
    "\n",
    "mesI=11\n",
    "yearI=2023"
   ]
  },
  {
   "cell_type": "code",
   "execution_count": 7,
   "id": "5dd82fee",
   "metadata": {},
   "outputs": [
    {
     "name": "stdout",
     "output_type": "stream",
     "text": [
      "(2023, 9)\n",
      "(2023, 10)\n"
     ]
    }
   ],
   "source": [
    "for tiempo in month_year_iter(mesA,yearA,mesI,yearI):\n",
    "    dfCV=pd.read_excel(rCEBE.format(tiempo[0],tiempo[1]),usecols=rcCols,converters=rcConv)\n",
    "    dfDesp=pd.read_excel(rDesp.format(tiempo[0],tiempo[1],1),usecols=rdCols,converters=rdConv)\n",
    "    if datetime(tiempo[0],tiempo[1],16) <= datetime.now():\n",
    "        dfDesp=pd.concat([dfDesp,pd.read_excel(rDesp.format(tiempo[0],tiempo[1],2),converters=rdConv,usecols=rdCols)])\n",
    "    \n",
    "    dfDesp=dfDesp.rename(columns={\"    # PLU\":\"PLU\",\n",
    "                              \"Entrega\":\"Documento comercial\",\n",
    "                              \"Número de material\":\"Desc. Material\",\n",
    "                             \"Cantidad entrega\":\"Cantidad entrega (Sinco)\",\n",
    "                             \"Peso neto\":\"Cantidad entrega Kg (Sinco)\",\n",
    "                             \"V.Neto\":\"Costo (Sinco)\",\n",
    "                             \"SBL\":\"Sublinea\"})\n",
    "\n",
    "    dfDesp=dfDesp.groupby(['Fe.SM real', 'Destinatario de mercancías', \n",
    "                    'N° Ped EDI','Documento comercial', \n",
    "                    'PLU', \"Material\",'Desc. Material','Sublinea']).sum().reset_index()\n",
    "\n",
    "    dfCV=dfCV[dfCV[\"Número de cuenta\"]==\"612014014\"]\n",
    "\n",
    "    dfCV=dfCV.groupby(['Centro de beneficio', 'Número de cuenta', 'Denominación',\n",
    "                       'Material', 'Centro','Documento comercial'],dropna=False).sum().reset_index()\n",
    "\n",
    "    dfCV=dfCV.rename(columns={\"Cantidad\":\"Cantidad (SAP)\",\n",
    "                             \"En moneda local centro de beneficio\":\"Costo (SAP)\"})\n",
    "\n",
    "    if dfDesp.shape[0] != dfDesp.merge(dfCV, on=[\"Documento comercial\",\"Material\"],how=\"left\").shape[0]:\n",
    "        raise Exception(\"Inserta filas\")\n",
    "\n",
    "    dfDesp=dfDesp.merge(dfCV, on=[\"Documento comercial\",\"Material\"],how=\"left\")\n",
    "    \n",
    "    dM=pd.read_excel(rM.format(\"Centros.xlsx\"),usecols=[\"Centro\",\"Descripción Centro\"],converters={\"Centro\":str})\n",
    "    dfDesp=dfDesp.merge(dM,on=[\"Centro\"],how=\"left\")\n",
    "    \n",
    "    dM=pd.read_excel(rM.format(\"Maestro CEBE Industria.xlsx\"),usecols=[\"Centro de beneficio\",\"Denominación CEBE\"],converters={\"Centro de beneficio\":str})\n",
    "    dfDesp=dfDesp.merge(dM,on=[\"Centro de beneficio\"],how=\"left\")\n",
    "    \n",
    "    dfDesp[\"Sublinea\"]=dfDesp[\"Sublinea\"].str.lstrip(\"0\")\n",
    "    \n",
    "    dM=pd.read_excel(rM.format(\"Sublinea2.xlsx\"),usecols=[\"Sub\",\"Sublinea\",\"GEN\"],converters={\"Sub\":str})\n",
    "    dM=dM.rename(columns={\"Sub\":\"Sublinea\",\"Sublinea\":\"Desc. Sublinea\"})\n",
    "    dfDesp=dfDesp.merge(dM,on=[\"Sublinea\"],how=\"left\")\n",
    "    \n",
    "    dfDesp.to_excel(rDest.format(tiempo[0],tiempo[1]),index=None)\n",
    "    print(tiempo)"
   ]
  },
  {
   "cell_type": "code",
   "execution_count": 3,
   "id": "3708db12",
   "metadata": {},
   "outputs": [
    {
     "data": {
      "text/plain": [
       "'012.2023'"
      ]
     },
     "execution_count": 3,
     "metadata": {},
     "output_type": "execute_result"
    }
   ],
   "source": [
    "\"{:03d}.{}\".format(12,2023)"
   ]
  },
  {
   "cell_type": "code",
   "execution_count": null,
   "id": "af656416",
   "metadata": {},
   "outputs": [],
   "source": []
  }
 ],
 "metadata": {
  "kernelspec": {
   "display_name": "Python 3 (ipykernel)",
   "language": "python",
   "name": "python3"
  },
  "language_info": {
   "codemirror_mode": {
    "name": "ipython",
    "version": 3
   },
   "file_extension": ".py",
   "mimetype": "text/x-python",
   "name": "python",
   "nbconvert_exporter": "python",
   "pygments_lexer": "ipython3",
   "version": "3.10.11"
  }
 },
 "nbformat": 4,
 "nbformat_minor": 5
}
