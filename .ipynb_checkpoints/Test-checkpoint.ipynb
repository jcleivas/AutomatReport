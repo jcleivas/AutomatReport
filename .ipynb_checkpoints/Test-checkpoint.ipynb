{
 "cells": [
  {
   "cell_type": "code",
   "execution_count": 1,
   "id": "84ee2cc2",
   "metadata": {},
   "outputs": [],
   "source": [
    "import win32com.client as win32"
   ]
  },
  {
   "cell_type": "code",
   "execution_count": 2,
   "id": "1a1fafe9",
   "metadata": {},
   "outputs": [],
   "source": [
    "path=r\"C:\\Users\\jcleiva\\Documents\\Reportes/\"\n",
    "fname=\"MDR Industria Cad Sum - Interno.xlsx\""
   ]
  },
  {
   "cell_type": "code",
   "execution_count": 3,
   "id": "fb38a2b1",
   "metadata": {},
   "outputs": [],
   "source": [
    "tiempo=(2023,8)"
   ]
  },
  {
   "cell_type": "code",
   "execution_count": 4,
   "id": "0cdc8642",
   "metadata": {},
   "outputs": [],
   "source": [
    "xl = win32.DispatchEx(\"Excel.Application\")\n",
    "\n",
    "wb = xl.workbooks.open(path+\"/\"+fname)\n",
    "xl.Visible = True\n",
    "#wb.RefreshAll()\n"
   ]
  },
  {
   "cell_type": "code",
   "execution_count": 5,
   "id": "8a17880d",
   "metadata": {},
   "outputs": [],
   "source": [
    "wb.SlicerCaches(\"SegmentaciónDeDatos_Fecha\").VisibleSlicerItemsList = [\"[MDR].[Fecha].&[{}-{:02d}-01T00:00:00]\".format(tiempo[0]-1,tiempo[1]),\n",
    "                                                                       \"[MDR].[Fecha].&[{}-{:02d}-01T00:00:00]\".format(tiempo[0],tiempo[1])]"
   ]
  },
  {
   "cell_type": "code",
   "execution_count": 6,
   "id": "d3193851",
   "metadata": {},
   "outputs": [],
   "source": [
    "wb.SlicerCaches(\"SegmentaciónDeDatos_Fecha1\").VisibleSlicerItemsList = [\"[MDR].[Fecha].&[{}-{:02d}-01T00:00:00]\".format(tiempo[0],tiempo[1])]"
   ]
  },
  {
   "cell_type": "code",
   "execution_count": 7,
   "id": "4d0ed50c",
   "metadata": {},
   "outputs": [],
   "source": [
    "fechas=[]\n",
    "val=False\n",
    "for a in wb.SlicerCaches(\"SegmentaciónDeDatos_Fecha2\").SlicerCacheLevels(1).SlicerItems:\n",
    "    if a.Value ==\"1/{:02d}/{}\".format(tiempo[1],tiempo[0]-1):\n",
    "        val=True\n",
    "    if val:\n",
    "        fechas.append('[MDR].[Fecha].&[{}-{}-01T00:00:00]'.format(a.Value[-4:],a.Value.split(\"/\")[1]))\n",
    "    if a.Value ==\"1/{:02d}/{}\".format(tiempo[1],tiempo[0]):\n",
    "        val=False\n",
    "wb.SlicerCaches(\"SegmentaciónDeDatos_Fecha2\").VisibleSlicerItemsList = fechas"
   ]
  },
  {
   "cell_type": "code",
   "execution_count": 8,
   "id": "541a0fad",
   "metadata": {},
   "outputs": [],
   "source": [
    "path=r\"C:\\Users\\jcleiva\\Documents\\Reportes\\Borradores/\"\n",
    "fname=\"P&G Cad Sum.pptx\"\n",
    "\n",
    "pwp = win32.Dispatch(\"PowerPoint.Application\")\n",
    "\n",
    "ppt = pwp.presentations.open(path+\"/\"+fname)"
   ]
  },
  {
   "cell_type": "code",
   "execution_count": 9,
   "id": "7620f785",
   "metadata": {},
   "outputs": [],
   "source": [
    "#,\"V10\",\"V26\",\"V19\",\"V23\"\n",
    "dSlides={\"Cascada General\":[\"Group 2\",\"T6:X29\",4],\n",
    "        \"58 - Comidas Preparadas\":[\"Group 14\",\"T6:X29\",9],\n",
    "        \"63 - Bebidas\":[\"Group 2\",\"T6:X29\",22],\n",
    "        \"68 - Charcuteria\":[\"Group 2\",\"T6:X29\",12],\n",
    "         \"80 - Carnes Frias\":[\"Group 2\",\"T6:X29\",25],\n",
    "         \"81 - Panaderia Ind\":[\"Group 2\",\"T6:X29\",28],\n",
    "         \"86 - Carnes Rojas\":[\"Group 2\",\"T6:X29\",15],\n",
    "         \"88 - Panaderia Fresca\":[\"Group 2\",\"T6:X29\",18],\n",
    "        }"
   ]
  },
  {
   "cell_type": "code",
   "execution_count": 10,
   "id": "9bffbfab",
   "metadata": {},
   "outputs": [],
   "source": [
    "for sd in dSlides.keys():\n",
    "    wb.sheets(sd).Shapes(dSlides[sd][0]).Copy()\n",
    "    a=ppt.Slides.Item(dSlides[sd][2]).Shapes.PasteSpecial(6)\n",
    "    a.Left=15\n",
    "    a.Top=130\n",
    "    \n",
    "    wb.sheets(sd).Range(dSlides[sd][1]).Copy()\n",
    "    a=ppt.Slides.Item((dSlides[sd][2])).Shapes.PasteSpecial(DataType=1, Link=False)\n",
    "    a.ScaleWidth(0.85,0)\n",
    "    a.Left=605\n",
    "    a.Top=130\n",
    "    \n",
    "    if sd != \"Cascada General\":\n",
    "\n",
    "        vlr=\"{:,}\".format(int(wb.sheets(sd).Range(\"V10\").value)).replace(\",\",\".\")\n",
    "        ppt.Slides.Item(dSlides[sd][2]+1).Shapes(\"IngNeto\").TextFrame.TextRange.Text=vlr\n",
    "\n",
    "        vlr=\"{:.1f}%\".format(wb.sheets(sd).Range(\"V26\").value*100)\n",
    "        ppt.Slides.Item(dSlides[sd][2]+1).Shapes(\"varVN\").TextFrame.TextRange.Text=vlr\n",
    "\n",
    "        vlr=\"{:.1f}%\".format(wb.sheets(sd).Range(\"V19\").value*100)\n",
    "        ppt.Slides.Item(dSlides[sd][2]+1).Shapes(\"MgnBto\").TextFrame.TextRange.Text=vlr\n",
    "\n",
    "        vlr=\"{:.1f}%\".format(wb.sheets(sd).Range(\"V23\").value*100)\n",
    "        ppt.Slides.Item(dSlides[sd][2]+1).Shapes(\"MgnUCS\").TextFrame.TextRange.Text=vlr\n",
    "        \n",
    "        wb.sheets(sd).Shapes(\"gMgnBto\").Copy()\n",
    "        a=ppt.Slides.Item(dSlides[sd][2]+1).Shapes.PasteSpecial(6)\n",
    "        a.Left=220\n",
    "        a.Top=273\n",
    "\n",
    "        wb.sheets(sd).Shapes(\"gVarVN\").Copy()\n",
    "        a=ppt.Slides.Item(dSlides[sd][2]+1).Shapes.PasteSpecial(6)\n",
    "        a.Left=220\n",
    "        a.Top=405\n",
    "        \n",
    "        wb.sheets(sd).Range(\"BS4\").CurrentRegion.Copy();\n",
    "        a=ppt.Slides.Item(dSlides[sd][2]+1).Shapes.PasteSpecial(2)\n",
    "\n",
    "        a.ScaleWidth(0.85,0)\n",
    "        a.Top=60\n",
    "        a.Left=185\n",
    "\n",
    "        wb.sheets(sd).Range(\"BY4\").CurrentRegion.Copy();\n",
    "        a=ppt.Slides.Item(dSlides[sd][2]+1).Shapes.PasteSpecial(2)\n",
    "\n",
    "        a.ScaleWidth(0.85,0)\n",
    "        a.Top=60\n",
    "        a.Left=570"
   ]
  },
  {
   "cell_type": "code",
   "execution_count": 11,
   "id": "fdd1884d",
   "metadata": {},
   "outputs": [],
   "source": [
    "meses={1:\"Enero\",\n",
    "       2:\"Febrero\",\n",
    "       3:\"Marzo\",\n",
    "       4:\"Abril\",\n",
    "       5:\"Mayo\",\n",
    "       6:\"Junio\",\n",
    "       7:\"Julio\",\n",
    "       8:\"Agosto\",\n",
    "       9:\"Septiembre\",\n",
    "       10:\"Octubre\",\n",
    "       11:\"Noviembre\",\n",
    "       12:\"Diciembre\",\n",
    "      }"
   ]
  },
  {
   "cell_type": "code",
   "execution_count": 12,
   "id": "b415f6a9",
   "metadata": {},
   "outputs": [],
   "source": [
    "ppt.Slides.Item(1).Shapes(\"CuadroTexto 10\").TextFrame.TextRange.Text = \"{} - {}\".format(meses[tiempo[1]],tiempo[0])\n",
    "ppt.Slides.Item(4).Shapes(\"CuadroTexto 14\").TextFrame.TextRange.Text = \"Resultado general {}-{}\".format(meses[tiempo[1]][:3].lower(),str(tiempo[0])[-2:])\n",
    "ppt.Slides.Item(5).Shapes(\"CuadroTexto 34\").TextFrame.TextRange.Text = \"Resultado general {}-{}\".format(meses[tiempo[1]][:3].lower(),str(tiempo[0])[-2:])"
   ]
  },
  {
   "cell_type": "code",
   "execution_count": 13,
   "id": "b4ce6243",
   "metadata": {},
   "outputs": [],
   "source": [
    "ppt.SaveAs(r\"C:\\Users\\jcleiva\\Documents\\Reportes\\Presentaciones/{}{:02d}. MDR Cad Sum.pptx\".format(tiempo[0],tiempo[1]))\n",
    "ppt.close()\n",
    "\n",
    "xl.CutCopyMode = False\n",
    "wb.Close(True)"
   ]
  },
  {
   "cell_type": "code",
   "execution_count": null,
   "id": "438b1768",
   "metadata": {},
   "outputs": [],
   "source": []
  },
  {
   "cell_type": "code",
   "execution_count": null,
   "id": "b41182f2",
   "metadata": {},
   "outputs": [],
   "source": []
  }
 ],
 "metadata": {
  "kernelspec": {
   "display_name": "Python 3 (ipykernel)",
   "language": "python",
   "name": "python3"
  },
  "language_info": {
   "codemirror_mode": {
    "name": "ipython",
    "version": 3
   },
   "file_extension": ".py",
   "mimetype": "text/x-python",
   "name": "python",
   "nbconvert_exporter": "python",
   "pygments_lexer": "ipython3",
   "version": "3.10.11"
  }
 },
 "nbformat": 4,
 "nbformat_minor": 5
}
