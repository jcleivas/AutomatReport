{
 "cells": [
  {
   "cell_type": "code",
   "execution_count": 1,
   "id": "9eb8720b",
   "metadata": {},
   "outputs": [],
   "source": [
    "import win32com.client as win32\n",
    "from PIL import ImageGrab\n",
    "import os\n",
    "import time"
   ]
  },
  {
   "cell_type": "code",
   "execution_count": 2,
   "id": "cb037e94",
   "metadata": {},
   "outputs": [],
   "source": [
    "html=\"\"\"\n",
    "    <p>\n",
    "    Buen día equipo,\n",
    "    </p>\n",
    "    <p>A continuación envio el reporte de variaciones en las órdenes de producción, cuya variación actual suma\n",
    "    <b>{:,.0f} MM COP.</p>\n",
    "    <p align=\"center\"><img src=\"cid:{}\" alt=\"Tabla Descripción generada automáticamente\"></p>\n",
    "    <p>\n",
    "    El link del reporte es el siguiente: \n",
    "    <a href=\"https://grupoexito-my.sharepoint.com/:x:/g/personal/jcleiva_grupo-exito_com/EWAKvrk8vGxHkpzJWNin06IBMwDw6KwLhErMuFCLvfSeJw?e=YuPqTs\"><span class=MsoSmartlink><\n",
    "    Reporte de Consumos y Precios.xlsx</a>\n",
    "    \n",
    "    <p>Cordial saludo,\n",
    "    <br>JuanL</p>\n",
    "    \"\"\""
   ]
  },
  {
   "cell_type": "code",
   "execution_count": 3,
   "id": "1260de46",
   "metadata": {},
   "outputs": [],
   "source": [
    "outlook = win32.Dispatch('outlook.application')\n",
    "mail = outlook.CreateItem(0)\n",
    "mail.To = 'jcleiva@grupo-exito.com'\n",
    "mail.Subject = \"Test de correo\"\n",
    "att1=mail.Attachments.Add(r\"C:\\Users\\jcleiva\\OneDrive - Grupo-exito.com\\Escritorio\\Proyectos\\Reportes\\Imagenes\\Consumos.jpg\")\n",
    "att1.PropertyAccessor.SetProperty(\"http://schemas.microsoft.com/mapi/proptag/0x3712001F\", \"MyId1\")\n",
    "mail.HTMLBody = html.format(1.1,\"MyId1\")\n",
    "#mail.HTMLBody = \"<html><body>Test image <img src=\"\"cid:MyId1\"\"></body></html>\"\n",
    "mail.Send()"
   ]
  },
  {
   "cell_type": "code",
   "execution_count": null,
   "id": "464e5f97",
   "metadata": {},
   "outputs": [],
   "source": []
  },
  {
   "cell_type": "code",
   "execution_count": null,
   "id": "867e6551",
   "metadata": {},
   "outputs": [],
   "source": []
  }
 ],
 "metadata": {
  "kernelspec": {
   "display_name": "Python 3 (ipykernel)",
   "language": "python",
   "name": "python3"
  },
  "language_info": {
   "codemirror_mode": {
    "name": "ipython",
    "version": 3
   },
   "file_extension": ".py",
   "mimetype": "text/x-python",
   "name": "python",
   "nbconvert_exporter": "python",
   "pygments_lexer": "ipython3",
   "version": "3.10.11"
  }
 },
 "nbformat": 4,
 "nbformat_minor": 5
}
