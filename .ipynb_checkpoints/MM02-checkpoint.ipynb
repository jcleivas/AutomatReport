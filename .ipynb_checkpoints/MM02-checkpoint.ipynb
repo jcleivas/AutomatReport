{
 "cells": [
  {
   "cell_type": "code",
   "execution_count": 16,
   "id": "529de477",
   "metadata": {},
   "outputs": [],
   "source": [
    "import subprocess\n",
    "import shutil\n",
    "import time\n",
    "import win32com.client\n",
    "import pythoncom\n",
    "import argparse\n",
    "from calendar import monthrange\n",
    "from datetime import datetime, timedelta\n",
    "import pandas as pd\n",
    "import numpy as np"
   ]
  },
  {
   "cell_type": "code",
   "execution_count": 17,
   "id": "7f345323",
   "metadata": {},
   "outputs": [],
   "source": [
    "def sapConnection(cSap):\n",
    "    path=r\"C:\\Program Files (x86)\\SAP\\FrontEnd\\SAPgui\\saplogon.exe\"\n",
    "    subprocess.Popen(path)\n",
    "    time.sleep(5)\n",
    "    SapGuiAuto = win32com.client.GetObject(\"SAPGUI\")\n",
    "    application = SapGuiAuto.GetScriptingEngine\n",
    "\n",
    "    try:\n",
    "        connection = application.Children(0)\n",
    "\n",
    "        i=0\n",
    "        print(\"Cerrando {} sesion(es) activa(s)\".format(int(connection.children.count)))\n",
    "        while int(connection.children.count) > 0 and i <5:\n",
    "            session = connection.Children(0)\n",
    "            session.findbyid(\"wnd[0]\").close()\n",
    "            session.findById(\"wnd[1]/usr/btnSPOP-OPTION1\").press()\n",
    "            i=i+1\n",
    "                \n",
    "    except Exception as e:\n",
    "        pass\n",
    "        \n",
    "    connection = application.OpenConnection(\"RISE - ERP Produccion\")\n",
    "    session = connection.Children(0)\n",
    "    session.findById(\"wnd[0]\").maximize()\n",
    "    session.findById(\"wnd[0]/usr/txtRSYST-BNAME\").text = \"1030611534\"\n",
    "    session.findById(\"wnd[0]/usr/pwdRSYST-BCODE\").text = \"Tebi.1030611534\"\n",
    "    session.findById(\"wnd[0]\").sendVKey(0)\n",
    "    return session"
   ]
  },
  {
   "cell_type": "code",
   "execution_count": 18,
   "id": "d1996259",
   "metadata": {},
   "outputs": [],
   "source": [
    "session=sapConnection(False)"
   ]
  },
  {
   "cell_type": "code",
   "execution_count": 19,
   "id": "7f24cf4b",
   "metadata": {},
   "outputs": [],
   "source": [
    "df=pd.read_excel(\"20230929. Precios Carnes v1.xlsx\",\n",
    "                 usecols=[\"Material\",\"Ámbito de valoración\", \"PRECIO ESTANDAR Septiembre\"],\n",
    "                 converters={\"Material\":str,\"Ámbito de valoración\":str})\n",
    "df[\"PRECIO ESTANDAR Septiembre\"]=df[\"PRECIO ESTANDAR Septiembre\"].astype(int)"
   ]
  },
  {
   "cell_type": "code",
   "execution_count": 20,
   "id": "e9c24564",
   "metadata": {},
   "outputs": [],
   "source": [
    "session.findById(\"wnd[0]/tbar[0]/okcd\").text = \"/nMM02\"\n",
    "session.findById(\"wnd[0]\").sendVKey(0)"
   ]
  },
  {
   "cell_type": "code",
   "execution_count": 21,
   "id": "0fc59e03",
   "metadata": {},
   "outputs": [],
   "source": [
    "for i in range(df.shape[0]):\n",
    "    session.findById(\"wnd[0]/usr/ctxtRMMG1-MATNR\").text = df.loc[i,\"Material\"]\n",
    "    session.findById(\"wnd[0]\").sendVKey(0)\n",
    "    session.findById(\"wnd[1]/usr/ctxtRMMG1-WERKS\").text = df.loc[i,\"Ámbito de valoración\"]\n",
    "    session.findById(\"wnd[1]\").sendVKey(0)\n",
    "    session.findById(\"wnd[0]/usr/tabsTABSPR1/tabpSP27/ssubTABFRA1:SAPLMGMM:2000/subSUB3:SAPLMGD1:2952/txtMBEW-ZPLP1\").text = df.loc[i,\"PRECIO ESTANDAR Septiembre\"]\n",
    "    session.findById(\"wnd[0]/usr/tabsTABSPR1/tabpSP27/ssubTABFRA1:SAPLMGMM:2000/subSUB3:SAPLMGD1:2952/ctxtMBEW-ZPLD1\").text = \"01.10.2023\"\n",
    "    session.findById(\"wnd[0]/usr/tabsTABSPR1/tabpSP27/ssubTABFRA1:SAPLMGMM:2000/subSUB3:SAPLMGD1:2952/txtMBEW-ZPLP3\").text = df.loc[i,\"PRECIO ESTANDAR Septiembre\"]\n",
    "    session.findById(\"wnd[0]/usr/tabsTABSPR1/tabpSP27/ssubTABFRA1:SAPLMGMM:2000/subSUB3:SAPLMGD1:2952/ctxtMBEW-ZPLD3\").text = \"01.10.2023\"\n",
    "    session.findById(\"wnd[0]\").sendVKey(0)\n",
    "    session.findById(\"wnd[1]/usr/btnSPOP-OPTION1\").press()"
   ]
  },
  {
   "cell_type": "code",
   "execution_count": 22,
   "id": "d1a6cc43",
   "metadata": {},
   "outputs": [
    {
     "data": {
      "text/plain": [
       "'\\nk=i\\nfor i in range(k,df.shape[0]):\\n    session.findById(\"wnd[0]/usr/ctxtRMMG1-MATNR\").text = df.loc[i,\"Material\"]\\n    session.findById(\"wnd[0]\").sendVKey(0)\\n    session.findById(\"wnd[1]/usr/ctxtRMMG1-WERKS\").text = df.loc[i,\"Ámbito de valoración\"]\\n    session.findById(\"wnd[1]\").sendVKey(0)\\n    session.findById(\"wnd[0]/usr/tabsTABSPR1/tabpSP27/ssubTABFRA1:SAPLMGMM:2000/subSUB3:SAPLMGD1:2952/txtMBEW-ZPLP1\").text = df.loc[i,\"PRECIO ESTANDAR Septiembre\"]\\n    session.findById(\"wnd[0]/usr/tabsTABSPR1/tabpSP27/ssubTABFRA1:SAPLMGMM:2000/subSUB3:SAPLMGD1:2952/ctxtMBEW-ZPLD1\").text = \"01.09.2023\"\\n    session.findById(\"wnd[0]/usr/tabsTABSPR1/tabpSP27/ssubTABFRA1:SAPLMGMM:2000/subSUB3:SAPLMGD1:2952/txtMBEW-ZPLP3\").text = df.loc[i,\"PRECIO ESTANDAR Septiembre\"]\\n    session.findById(\"wnd[0]/usr/tabsTABSPR1/tabpSP27/ssubTABFRA1:SAPLMGMM:2000/subSUB3:SAPLMGD1:2952/ctxtMBEW-ZPLD3\").text = \"01.09.2023\"\\n    session.findById(\"wnd[0]\").sendVKey(0)\\n    session.findById(\"wnd[1]/usr/btnSPOP-OPTION1\").press()\\n'"
      ]
     },
     "execution_count": 22,
     "metadata": {},
     "output_type": "execute_result"
    }
   ],
   "source": [
    "\"\"\"\n",
    "k=i\n",
    "for i in range(k,df.shape[0]):\n",
    "    session.findById(\"wnd[0]/usr/ctxtRMMG1-MATNR\").text = df.loc[i,\"Material\"]\n",
    "    session.findById(\"wnd[0]\").sendVKey(0)\n",
    "    session.findById(\"wnd[1]/usr/ctxtRMMG1-WERKS\").text = df.loc[i,\"Ámbito de valoración\"]\n",
    "    session.findById(\"wnd[1]\").sendVKey(0)\n",
    "    session.findById(\"wnd[0]/usr/tabsTABSPR1/tabpSP27/ssubTABFRA1:SAPLMGMM:2000/subSUB3:SAPLMGD1:2952/txtMBEW-ZPLP1\").text = df.loc[i,\"PRECIO ESTANDAR Septiembre\"]\n",
    "    session.findById(\"wnd[0]/usr/tabsTABSPR1/tabpSP27/ssubTABFRA1:SAPLMGMM:2000/subSUB3:SAPLMGD1:2952/ctxtMBEW-ZPLD1\").text = \"01.09.2023\"\n",
    "    session.findById(\"wnd[0]/usr/tabsTABSPR1/tabpSP27/ssubTABFRA1:SAPLMGMM:2000/subSUB3:SAPLMGD1:2952/txtMBEW-ZPLP3\").text = df.loc[i,\"PRECIO ESTANDAR Septiembre\"]\n",
    "    session.findById(\"wnd[0]/usr/tabsTABSPR1/tabpSP27/ssubTABFRA1:SAPLMGMM:2000/subSUB3:SAPLMGD1:2952/ctxtMBEW-ZPLD3\").text = \"01.09.2023\"\n",
    "    session.findById(\"wnd[0]\").sendVKey(0)\n",
    "    session.findById(\"wnd[1]/usr/btnSPOP-OPTION1\").press()\n",
    "\"\"\""
   ]
  },
  {
   "cell_type": "code",
   "execution_count": 23,
   "id": "c8a8945f",
   "metadata": {},
   "outputs": [
    {
     "data": {
      "text/plain": [
       "232"
      ]
     },
     "execution_count": 23,
     "metadata": {},
     "output_type": "execute_result"
    }
   ],
   "source": [
    "i"
   ]
  },
  {
   "cell_type": "code",
   "execution_count": null,
   "id": "6476b92d",
   "metadata": {},
   "outputs": [],
   "source": []
  }
 ],
 "metadata": {
  "kernelspec": {
   "display_name": "Python 3 (ipykernel)",
   "language": "python",
   "name": "python3"
  },
  "language_info": {
   "codemirror_mode": {
    "name": "ipython",
    "version": 3
   },
   "file_extension": ".py",
   "mimetype": "text/x-python",
   "name": "python",
   "nbconvert_exporter": "python",
   "pygments_lexer": "ipython3",
   "version": "3.10.11"
  }
 },
 "nbformat": 4,
 "nbformat_minor": 5
}
