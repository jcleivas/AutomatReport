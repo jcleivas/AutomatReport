{
 "cells": [
  {
   "cell_type": "code",
   "execution_count": 3,
   "id": "50b2203c",
   "metadata": {},
   "outputs": [],
   "source": [
    "import pandas as pd\n",
    "import datetime\n",
    "import numpy as np"
   ]
  },
  {
   "cell_type": "code",
   "execution_count": 2,
   "id": "ec196bd8",
   "metadata": {},
   "outputs": [],
   "source": [
    "def month_year_iter(start_month, start_year, end_month, end_year):\n",
    "    ym_start= 12*start_year + start_month - 1\n",
    "    ym_end= 12*end_year + end_month - 1\n",
    "    for ym in range(ym_start, ym_end):\n",
    "        y, m = divmod(ym, 12)\n",
    "        yield y, m+1"
   ]
  },
  {
   "cell_type": "code",
   "execution_count": 5,
   "id": "5cdf7566",
   "metadata": {},
   "outputs": [],
   "source": [
    "mesA=6\n",
    "yearA=2023\n",
    "mesI=7\n",
    "yearI=2023"
   ]
  },
  {
   "cell_type": "code",
   "execution_count": 9,
   "id": "782744b2",
   "metadata": {},
   "outputs": [],
   "source": [
    "ruta=r\"C:\\Users\\jcleiva\\Documents\\Reportes Base\\{}\\Traslados\"\n",
    "rMB=r\"\\{}. MB51 (Traslados).xlsx\"\n",
    "rCV=r\"\\{}. Traslados CEBE.xlsx\"\n",
    "\n",
    "colsMB51=[\"Centro\",\"Nombre 1\",\"Material\",\"Texto breve de material\",\n",
    "          \"Ctd.en UM entrada\",\"Importe ML\",\"Clase de movimiento\",\n",
    "          \"Unidad medida base\",\"Texto de clase-mov.\",\"Documento material\"]\n",
    "convMB51={\"Centro\":str,\"Material\":str,\"Clase de movimiento\":str,\"Documento material\":str}\n",
    "\n",
    "colsCV=[\"Nº doc.refer.\",\"En moneda local centro de beneficio\"]\n",
    "convCV={\"Nº doc.refer.\":str}\n",
    "\n",
    "\n",
    "for tiempo in month_year_iter(mesA,yearA,mesI,yearI):\n",
    "    dfMb51=pd.read_excel(ruta.format(tiempo[0])+rMB.format(tiempo[1]),usecols=colsMB51,converters=convMB51)\n",
    "    dfCV=pd.read_excel(ruta.format(tiempo[0])+rCV.format(tiempo[1]),usecols=colsCV,converters=convCV)\n",
    "    \n",
    "    dfMb51=dfMb51[dfMb51[\"Documento material\"].isin(dfCV[\"Nº doc.refer.\"])]\n",
    "\n",
    "    if dfMb51[\"Importe ML\"].sum()+dfCV[\"En moneda local centro de beneficio\"].sum() != 0.0:\n",
    "        raise Exception(\"Los reportes no están conciliados\")\n",
    "\n",
    "    dfMb51[\"Tipo\"]=dfMb51[\"Importe ML\"].apply(lambda x: \"Origen\" if x<0 else \"Destino\")\n",
    "    \n",
    "    dfMb51=dfMb51.rename(columns={\"Nombre 1\":\"Descripción Centro\"})"
   ]
  },
  {
   "cell_type": "code",
   "execution_count": 10,
   "id": "a31c2434",
   "metadata": {},
   "outputs": [],
   "source": []
  },
  {
   "cell_type": "code",
   "execution_count": 19,
   "id": "f6fa8a6a",
   "metadata": {},
   "outputs": [],
   "source": []
  },
  {
   "cell_type": "code",
   "execution_count": 17,
   "id": "789b74a3",
   "metadata": {},
   "outputs": [],
   "source": []
  },
  {
   "cell_type": "code",
   "execution_count": null,
   "id": "c5a62185",
   "metadata": {},
   "outputs": [],
   "source": []
  },
  {
   "cell_type": "code",
   "execution_count": null,
   "id": "5cebd4c6",
   "metadata": {},
   "outputs": [],
   "source": []
  }
 ],
 "metadata": {
  "kernelspec": {
   "display_name": "Python 3 (ipykernel)",
   "language": "python",
   "name": "python3"
  },
  "language_info": {
   "codemirror_mode": {
    "name": "ipython",
    "version": 3
   },
   "file_extension": ".py",
   "mimetype": "text/x-python",
   "name": "python",
   "nbconvert_exporter": "python",
   "pygments_lexer": "ipython3",
   "version": "3.10.11"
  }
 },
 "nbformat": 4,
 "nbformat_minor": 5
}
