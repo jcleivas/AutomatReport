{
 "cells": [
  {
   "cell_type": "code",
   "execution_count": 52,
   "id": "1302e123",
   "metadata": {},
   "outputs": [],
   "source": [
    "import pandas as pd"
   ]
  },
  {
   "cell_type": "code",
   "execution_count": 53,
   "id": "fbcbd68d",
   "metadata": {},
   "outputs": [],
   "source": [
    "ruta=r\"C:\\Users\\jcleiva\\OneDrive - Grupo-exito.com\\Escritorio\\Proyectos\\Reportes Base\"\n",
    "rutaM=r\"C:\\Users\\jcleiva\\OneDrive - Grupo-exito.com\\Escritorio\\Proyectos\\Reportes Base\\Maestras\"\n",
    "rutaR=r\"C:\\Users\\jcleiva\\OneDrive - Grupo-exito.com\\Escritorio\\Proyectos\\Reportes\""
   ]
  },
  {
   "cell_type": "code",
   "execution_count": 54,
   "id": "ecd531cc",
   "metadata": {},
   "outputs": [],
   "source": [
    "def month_year_iter(start_month, start_year, end_month, end_year):\n",
    "    ym_start= 12*start_year + start_month - 1\n",
    "    ym_end= 12*end_year + end_month - 1\n",
    "    for ym in range(ym_start, ym_end):\n",
    "        y, m = divmod(ym, 12)\n",
    "        yield y, m+1"
   ]
  },
  {
   "cell_type": "code",
   "execution_count": 55,
   "id": "17f9e839",
   "metadata": {},
   "outputs": [],
   "source": [
    "colsComp=[\"Orden\",\"Centro\",\"Almacén\",\"Material\",\"Texto breve material\",\n",
    "          \"Unidad medida base (=EINHEIT)\",\"Cantidad necesaria (EINHEIT)\",\n",
    "          \"Cantidad tomada (EINHEIT)\",\"Valor de la toma (WAERS)\",\"Clase de movimiento\",\n",
    "          \"Precio/MonL (WAERS)\"]\n",
    "\n",
    "convComp={\"Orden\":str,\"Centro\":str,\"Almacén\":str,\"Pos.lista componentes\":str,\"Material\":str,\n",
    "          \"Clase de movimiento\":str}"
   ]
  },
  {
   "cell_type": "code",
   "execution_count": 56,
   "id": "7f1927db",
   "metadata": {},
   "outputs": [],
   "source": [
    "colsCab=[\"Centro\",\"Orden\",\"Número material\",\"Texto breve material\",\"Clase de orden\",\n",
    "         \"Planificador nec.\",\"Resp.ctrl.producción\",\"Cantidad orden (GMEIN)\",\"Cantidad entregada (GMEIN)\",\n",
    "         \"Unidad de medida (=GMEIN)\",\"Status de sistema\",\"Cantidad notificada (GMEIN)\",\n",
    "         \"Ctd.confirmada (GMEIN)\",\"Versión fabricación\",\"Cantidad notificada (CONF_REM_UNIT)\",\n",
    "         \"Difer.confirm.proc.\",\"División\",\"Fecha liberac.real\"]\n",
    "\n",
    "convCab={\"Centro\":str,\"Orden\":str,\"Número material\":str,\"Difer.confirm.proc.\":str,\"División\":str}"
   ]
  },
  {
   "cell_type": "code",
   "execution_count": 57,
   "id": "414ee281",
   "metadata": {},
   "outputs": [],
   "source": [
    "colsAdi=[\"Orden\",\"Centro\",\"Almacén\",\"Material\",\"Texto de material\",\n",
    "         \"Unidad medida base (=MEINS)\",\"Ctd.en UM base (MEINS)\",\"Importe ML (WAERS)\",\n",
    "         \"Clase de movimiento\"]\n",
    "\n",
    "convAdi={\"Orden\":str,\"Centro\":str,\"Almacén\":str,\"Pos.documento mat.\":str,\"Material\":str,\n",
    "         \"Clase de movimiento\":str}\n",
    "\n",
    "colsMb51=[\"Centro\",\"Orden\",\"Material\",\"Ctd.en UM entrada\",\"Importe ML\",\"Clase de movimiento\"]\n",
    "convMb51={\"Centro\":str,\"Orden\":str,\"Material\":str,\"Clase de movimiento\":str}"
   ]
  },
  {
   "cell_type": "code",
   "execution_count": 58,
   "id": "036c7b6d",
   "metadata": {},
   "outputs": [],
   "source": [
    "mesA=11\n",
    "yearA=2022\n",
    "mesI=12\n",
    "yearI=2022"
   ]
  },
  {
   "cell_type": "code",
   "execution_count": 59,
   "id": "138dad39",
   "metadata": {},
   "outputs": [
    {
     "ename": "BadZipFile",
     "evalue": "File is not a zip file",
     "output_type": "error",
     "traceback": [
      "\u001b[1;31m---------------------------------------------------------------------------\u001b[0m",
      "\u001b[1;31mBadZipFile\u001b[0m                                Traceback (most recent call last)",
      "Cell \u001b[1;32mIn[59], line 57\u001b[0m\n\u001b[0;32m     54\u001b[0m dfComp[\u001b[38;5;124m\"\u001b[39m\u001b[38;5;124mPrecio esperado\u001b[39m\u001b[38;5;124m\"\u001b[39m] \u001b[38;5;241m=\u001b[39m dfComp[\u001b[38;5;124m\"\u001b[39m\u001b[38;5;124mPrecio Plan\u001b[39m\u001b[38;5;124m\"\u001b[39m]\n\u001b[0;32m     55\u001b[0m dfComp\u001b[38;5;241m.\u001b[39mloc[dfComp[\u001b[38;5;124m\"\u001b[39m\u001b[38;5;124mPrecio Plan\u001b[39m\u001b[38;5;124m\"\u001b[39m]\u001b[38;5;241m==\u001b[39m\u001b[38;5;241m0.0\u001b[39m,\u001b[38;5;124m\"\u001b[39m\u001b[38;5;124mPrecio esperado\u001b[39m\u001b[38;5;124m\"\u001b[39m]\u001b[38;5;241m=\u001b[39mdfComp\u001b[38;5;241m.\u001b[39mloc[dfComp[\u001b[38;5;124m\"\u001b[39m\u001b[38;5;124mPrecio Plan\u001b[39m\u001b[38;5;124m\"\u001b[39m]\u001b[38;5;241m==\u001b[39m\u001b[38;5;241m0.0\u001b[39m,\u001b[38;5;124m\"\u001b[39m\u001b[38;5;124mPrecio tomado\u001b[39m\u001b[38;5;124m\"\u001b[39m]\n\u001b[1;32m---> 57\u001b[0m dfMb51\u001b[38;5;241m=\u001b[39m\u001b[43mpd\u001b[49m\u001b[38;5;241;43m.\u001b[39;49m\u001b[43mread_excel\u001b[49m\u001b[43m(\u001b[49m\u001b[43mruta\u001b[49m\u001b[38;5;241;43m+\u001b[39;49m\u001b[38;5;124;43m\"\u001b[39;49m\u001b[38;5;124;43m\\\u001b[39;49m\u001b[38;5;132;43;01m{}\u001b[39;49;00m\u001b[38;5;124;43m\\\u001b[39;49m\u001b[38;5;124;43mConsumos\u001b[39;49m\u001b[38;5;124;43m\\\u001b[39;49m\u001b[38;5;132;43;01m{}\u001b[39;49;00m\u001b[38;5;124;43m. MB51 (Consumos).xlsx\u001b[39;49m\u001b[38;5;124;43m\"\u001b[39;49m\u001b[38;5;241;43m.\u001b[39;49m\u001b[43mformat\u001b[49m\u001b[43m(\u001b[49m\u001b[43mtiempo\u001b[49m\u001b[43m[\u001b[49m\u001b[38;5;241;43m0\u001b[39;49m\u001b[43m]\u001b[49m\u001b[43m,\u001b[49m\u001b[43mtiempo\u001b[49m\u001b[43m[\u001b[49m\u001b[38;5;241;43m1\u001b[39;49m\u001b[43m]\u001b[49m\u001b[43m)\u001b[49m\u001b[43m,\u001b[49m\u001b[43musecols\u001b[49m\u001b[38;5;241;43m=\u001b[39;49m\u001b[43mcolsMb51\u001b[49m\u001b[43m,\u001b[49m\u001b[43mconverters\u001b[49m\u001b[38;5;241;43m=\u001b[39;49m\u001b[43mconvMb51\u001b[49m\u001b[43m)\u001b[49m\n\u001b[0;32m     59\u001b[0m dfMb51[\u001b[38;5;124m\"\u001b[39m\u001b[38;5;124mClase de movimiento\u001b[39m\u001b[38;5;124m\"\u001b[39m]\u001b[38;5;241m=\u001b[39mdfMb51[\u001b[38;5;124m\"\u001b[39m\u001b[38;5;124mClase de movimiento\u001b[39m\u001b[38;5;124m\"\u001b[39m]\u001b[38;5;241m.\u001b[39mreplace([\u001b[38;5;124m\"\u001b[39m\u001b[38;5;124m262\u001b[39m\u001b[38;5;124m\"\u001b[39m,\u001b[38;5;124m\"\u001b[39m\u001b[38;5;124m102\u001b[39m\u001b[38;5;124m\"\u001b[39m,\u001b[38;5;124m\"\u001b[39m\u001b[38;5;124m532\u001b[39m\u001b[38;5;124m\"\u001b[39m],[\u001b[38;5;124m\"\u001b[39m\u001b[38;5;124m261\u001b[39m\u001b[38;5;124m\"\u001b[39m,\u001b[38;5;124m\"\u001b[39m\u001b[38;5;124m101\u001b[39m\u001b[38;5;124m\"\u001b[39m,\u001b[38;5;124m\"\u001b[39m\u001b[38;5;124m531\u001b[39m\u001b[38;5;124m\"\u001b[39m])\n\u001b[0;32m     61\u001b[0m dfMb51\u001b[38;5;241m=\u001b[39mdfMb51\u001b[38;5;241m.\u001b[39mgroupby([\u001b[38;5;124m\"\u001b[39m\u001b[38;5;124mOrden\u001b[39m\u001b[38;5;124m\"\u001b[39m,\u001b[38;5;124m\"\u001b[39m\u001b[38;5;124mCentro\u001b[39m\u001b[38;5;124m\"\u001b[39m,\u001b[38;5;124m\"\u001b[39m\u001b[38;5;124mMaterial\u001b[39m\u001b[38;5;124m\"\u001b[39m,\u001b[38;5;124m\"\u001b[39m\u001b[38;5;124mClase de movimiento\u001b[39m\u001b[38;5;124m\"\u001b[39m])\u001b[38;5;241m.\u001b[39msum()\u001b[38;5;241m.\u001b[39mreset_index()\n",
      "File \u001b[1;32m~\\AppData\\Local\\anaconda3\\lib\\site-packages\\pandas\\util\\_decorators.py:211\u001b[0m, in \u001b[0;36mdeprecate_kwarg.<locals>._deprecate_kwarg.<locals>.wrapper\u001b[1;34m(*args, **kwargs)\u001b[0m\n\u001b[0;32m    209\u001b[0m     \u001b[38;5;28;01melse\u001b[39;00m:\n\u001b[0;32m    210\u001b[0m         kwargs[new_arg_name] \u001b[38;5;241m=\u001b[39m new_arg_value\n\u001b[1;32m--> 211\u001b[0m \u001b[38;5;28;01mreturn\u001b[39;00m func(\u001b[38;5;241m*\u001b[39margs, \u001b[38;5;241m*\u001b[39m\u001b[38;5;241m*\u001b[39mkwargs)\n",
      "File \u001b[1;32m~\\AppData\\Local\\anaconda3\\lib\\site-packages\\pandas\\util\\_decorators.py:331\u001b[0m, in \u001b[0;36mdeprecate_nonkeyword_arguments.<locals>.decorate.<locals>.wrapper\u001b[1;34m(*args, **kwargs)\u001b[0m\n\u001b[0;32m    325\u001b[0m \u001b[38;5;28;01mif\u001b[39;00m \u001b[38;5;28mlen\u001b[39m(args) \u001b[38;5;241m>\u001b[39m num_allow_args:\n\u001b[0;32m    326\u001b[0m     warnings\u001b[38;5;241m.\u001b[39mwarn(\n\u001b[0;32m    327\u001b[0m         msg\u001b[38;5;241m.\u001b[39mformat(arguments\u001b[38;5;241m=\u001b[39m_format_argument_list(allow_args)),\n\u001b[0;32m    328\u001b[0m         \u001b[38;5;167;01mFutureWarning\u001b[39;00m,\n\u001b[0;32m    329\u001b[0m         stacklevel\u001b[38;5;241m=\u001b[39mfind_stack_level(),\n\u001b[0;32m    330\u001b[0m     )\n\u001b[1;32m--> 331\u001b[0m \u001b[38;5;28;01mreturn\u001b[39;00m func(\u001b[38;5;241m*\u001b[39margs, \u001b[38;5;241m*\u001b[39m\u001b[38;5;241m*\u001b[39mkwargs)\n",
      "File \u001b[1;32m~\\AppData\\Local\\anaconda3\\lib\\site-packages\\pandas\\io\\excel\\_base.py:482\u001b[0m, in \u001b[0;36mread_excel\u001b[1;34m(io, sheet_name, header, names, index_col, usecols, squeeze, dtype, engine, converters, true_values, false_values, skiprows, nrows, na_values, keep_default_na, na_filter, verbose, parse_dates, date_parser, thousands, decimal, comment, skipfooter, convert_float, mangle_dupe_cols, storage_options)\u001b[0m\n\u001b[0;32m    480\u001b[0m \u001b[38;5;28;01mif\u001b[39;00m \u001b[38;5;129;01mnot\u001b[39;00m \u001b[38;5;28misinstance\u001b[39m(io, ExcelFile):\n\u001b[0;32m    481\u001b[0m     should_close \u001b[38;5;241m=\u001b[39m \u001b[38;5;28;01mTrue\u001b[39;00m\n\u001b[1;32m--> 482\u001b[0m     io \u001b[38;5;241m=\u001b[39m \u001b[43mExcelFile\u001b[49m\u001b[43m(\u001b[49m\u001b[43mio\u001b[49m\u001b[43m,\u001b[49m\u001b[43m \u001b[49m\u001b[43mstorage_options\u001b[49m\u001b[38;5;241;43m=\u001b[39;49m\u001b[43mstorage_options\u001b[49m\u001b[43m,\u001b[49m\u001b[43m \u001b[49m\u001b[43mengine\u001b[49m\u001b[38;5;241;43m=\u001b[39;49m\u001b[43mengine\u001b[49m\u001b[43m)\u001b[49m\n\u001b[0;32m    483\u001b[0m \u001b[38;5;28;01melif\u001b[39;00m engine \u001b[38;5;129;01mand\u001b[39;00m engine \u001b[38;5;241m!=\u001b[39m io\u001b[38;5;241m.\u001b[39mengine:\n\u001b[0;32m    484\u001b[0m     \u001b[38;5;28;01mraise\u001b[39;00m \u001b[38;5;167;01mValueError\u001b[39;00m(\n\u001b[0;32m    485\u001b[0m         \u001b[38;5;124m\"\u001b[39m\u001b[38;5;124mEngine should not be specified when passing \u001b[39m\u001b[38;5;124m\"\u001b[39m\n\u001b[0;32m    486\u001b[0m         \u001b[38;5;124m\"\u001b[39m\u001b[38;5;124man ExcelFile - ExcelFile already has the engine set\u001b[39m\u001b[38;5;124m\"\u001b[39m\n\u001b[0;32m    487\u001b[0m     )\n",
      "File \u001b[1;32m~\\AppData\\Local\\anaconda3\\lib\\site-packages\\pandas\\io\\excel\\_base.py:1652\u001b[0m, in \u001b[0;36mExcelFile.__init__\u001b[1;34m(self, path_or_buffer, engine, storage_options)\u001b[0m\n\u001b[0;32m   1650\u001b[0m     ext \u001b[38;5;241m=\u001b[39m \u001b[38;5;124m\"\u001b[39m\u001b[38;5;124mxls\u001b[39m\u001b[38;5;124m\"\u001b[39m\n\u001b[0;32m   1651\u001b[0m \u001b[38;5;28;01melse\u001b[39;00m:\n\u001b[1;32m-> 1652\u001b[0m     ext \u001b[38;5;241m=\u001b[39m \u001b[43minspect_excel_format\u001b[49m\u001b[43m(\u001b[49m\n\u001b[0;32m   1653\u001b[0m \u001b[43m        \u001b[49m\u001b[43mcontent_or_path\u001b[49m\u001b[38;5;241;43m=\u001b[39;49m\u001b[43mpath_or_buffer\u001b[49m\u001b[43m,\u001b[49m\u001b[43m \u001b[49m\u001b[43mstorage_options\u001b[49m\u001b[38;5;241;43m=\u001b[39;49m\u001b[43mstorage_options\u001b[49m\n\u001b[0;32m   1654\u001b[0m \u001b[43m    \u001b[49m\u001b[43m)\u001b[49m\n\u001b[0;32m   1655\u001b[0m     \u001b[38;5;28;01mif\u001b[39;00m ext \u001b[38;5;129;01mis\u001b[39;00m \u001b[38;5;28;01mNone\u001b[39;00m:\n\u001b[0;32m   1656\u001b[0m         \u001b[38;5;28;01mraise\u001b[39;00m \u001b[38;5;167;01mValueError\u001b[39;00m(\n\u001b[0;32m   1657\u001b[0m             \u001b[38;5;124m\"\u001b[39m\u001b[38;5;124mExcel file format cannot be determined, you must specify \u001b[39m\u001b[38;5;124m\"\u001b[39m\n\u001b[0;32m   1658\u001b[0m             \u001b[38;5;124m\"\u001b[39m\u001b[38;5;124man engine manually.\u001b[39m\u001b[38;5;124m\"\u001b[39m\n\u001b[0;32m   1659\u001b[0m         )\n",
      "File \u001b[1;32m~\\AppData\\Local\\anaconda3\\lib\\site-packages\\pandas\\io\\excel\\_base.py:1543\u001b[0m, in \u001b[0;36minspect_excel_format\u001b[1;34m(content_or_path, storage_options)\u001b[0m\n\u001b[0;32m   1540\u001b[0m \u001b[38;5;28;01melif\u001b[39;00m \u001b[38;5;129;01mnot\u001b[39;00m peek\u001b[38;5;241m.\u001b[39mstartswith(ZIP_SIGNATURE):\n\u001b[0;32m   1541\u001b[0m     \u001b[38;5;28;01mreturn\u001b[39;00m \u001b[38;5;28;01mNone\u001b[39;00m\n\u001b[1;32m-> 1543\u001b[0m \u001b[38;5;28;01mwith\u001b[39;00m \u001b[43mzipfile\u001b[49m\u001b[38;5;241;43m.\u001b[39;49m\u001b[43mZipFile\u001b[49m\u001b[43m(\u001b[49m\u001b[43mstream\u001b[49m\u001b[43m)\u001b[49m \u001b[38;5;28;01mas\u001b[39;00m zf:\n\u001b[0;32m   1544\u001b[0m     \u001b[38;5;66;03m# Workaround for some third party files that use forward slashes and\u001b[39;00m\n\u001b[0;32m   1545\u001b[0m     \u001b[38;5;66;03m# lower case names.\u001b[39;00m\n\u001b[0;32m   1546\u001b[0m     component_names \u001b[38;5;241m=\u001b[39m [\n\u001b[0;32m   1547\u001b[0m         name\u001b[38;5;241m.\u001b[39mreplace(\u001b[38;5;124m\"\u001b[39m\u001b[38;5;130;01m\\\\\u001b[39;00m\u001b[38;5;124m\"\u001b[39m, \u001b[38;5;124m\"\u001b[39m\u001b[38;5;124m/\u001b[39m\u001b[38;5;124m\"\u001b[39m)\u001b[38;5;241m.\u001b[39mlower() \u001b[38;5;28;01mfor\u001b[39;00m name \u001b[38;5;129;01min\u001b[39;00m zf\u001b[38;5;241m.\u001b[39mnamelist()\n\u001b[0;32m   1548\u001b[0m     ]\n\u001b[0;32m   1550\u001b[0m \u001b[38;5;28;01mif\u001b[39;00m \u001b[38;5;124m\"\u001b[39m\u001b[38;5;124mxl/workbook.xml\u001b[39m\u001b[38;5;124m\"\u001b[39m \u001b[38;5;129;01min\u001b[39;00m component_names:\n",
      "File \u001b[1;32m~\\AppData\\Local\\anaconda3\\lib\\zipfile.py:1267\u001b[0m, in \u001b[0;36mZipFile.__init__\u001b[1;34m(self, file, mode, compression, allowZip64, compresslevel, strict_timestamps)\u001b[0m\n\u001b[0;32m   1265\u001b[0m \u001b[38;5;28;01mtry\u001b[39;00m:\n\u001b[0;32m   1266\u001b[0m     \u001b[38;5;28;01mif\u001b[39;00m mode \u001b[38;5;241m==\u001b[39m \u001b[38;5;124m'\u001b[39m\u001b[38;5;124mr\u001b[39m\u001b[38;5;124m'\u001b[39m:\n\u001b[1;32m-> 1267\u001b[0m         \u001b[38;5;28;43mself\u001b[39;49m\u001b[38;5;241;43m.\u001b[39;49m\u001b[43m_RealGetContents\u001b[49m\u001b[43m(\u001b[49m\u001b[43m)\u001b[49m\n\u001b[0;32m   1268\u001b[0m     \u001b[38;5;28;01melif\u001b[39;00m mode \u001b[38;5;129;01min\u001b[39;00m (\u001b[38;5;124m'\u001b[39m\u001b[38;5;124mw\u001b[39m\u001b[38;5;124m'\u001b[39m, \u001b[38;5;124m'\u001b[39m\u001b[38;5;124mx\u001b[39m\u001b[38;5;124m'\u001b[39m):\n\u001b[0;32m   1269\u001b[0m         \u001b[38;5;66;03m# set the modified flag so central directory gets written\u001b[39;00m\n\u001b[0;32m   1270\u001b[0m         \u001b[38;5;66;03m# even if no files are added to the archive\u001b[39;00m\n\u001b[0;32m   1271\u001b[0m         \u001b[38;5;28mself\u001b[39m\u001b[38;5;241m.\u001b[39m_didModify \u001b[38;5;241m=\u001b[39m \u001b[38;5;28;01mTrue\u001b[39;00m\n",
      "File \u001b[1;32m~\\AppData\\Local\\anaconda3\\lib\\zipfile.py:1334\u001b[0m, in \u001b[0;36mZipFile._RealGetContents\u001b[1;34m(self)\u001b[0m\n\u001b[0;32m   1332\u001b[0m     \u001b[38;5;28;01mraise\u001b[39;00m BadZipFile(\u001b[38;5;124m\"\u001b[39m\u001b[38;5;124mFile is not a zip file\u001b[39m\u001b[38;5;124m\"\u001b[39m)\n\u001b[0;32m   1333\u001b[0m \u001b[38;5;28;01mif\u001b[39;00m \u001b[38;5;129;01mnot\u001b[39;00m endrec:\n\u001b[1;32m-> 1334\u001b[0m     \u001b[38;5;28;01mraise\u001b[39;00m BadZipFile(\u001b[38;5;124m\"\u001b[39m\u001b[38;5;124mFile is not a zip file\u001b[39m\u001b[38;5;124m\"\u001b[39m)\n\u001b[0;32m   1335\u001b[0m \u001b[38;5;28;01mif\u001b[39;00m \u001b[38;5;28mself\u001b[39m\u001b[38;5;241m.\u001b[39mdebug \u001b[38;5;241m>\u001b[39m \u001b[38;5;241m1\u001b[39m:\n\u001b[0;32m   1336\u001b[0m     \u001b[38;5;28mprint\u001b[39m(endrec)\n",
      "\u001b[1;31mBadZipFile\u001b[0m: File is not a zip file"
     ]
    }
   ],
   "source": [
    "for tiempo in month_year_iter(mesA,yearA,mesI,yearI):\n",
    "    dfComp=pd.read_excel(ruta+\"\\{}\\Consumos\\{}. Componentes.xlsx\".format(tiempo[0],tiempo[1]),usecols=colsComp,converters=convComp)\n",
    "    dfAdi=pd.read_excel(ruta+\"\\{}\\Consumos\\{}. Adicionales.xlsx\".format(tiempo[0],tiempo[1]),usecols=colsAdi,converters=convAdi)\n",
    "    dfCab=pd.read_excel(ruta+\"\\{}\\Consumos\\{}. Cabeceras de orden.xlsx\".format(tiempo[0],tiempo[1]),usecols=colsCab,converters=convCab)\n",
    "    \n",
    "    dfAdi=dfAdi.rename(columns={\"Unidad medida base (=MEINS)\":\"Unidad medida base (=EINHEIT)\",\n",
    "                     'Ctd.en UM base (MEINS)':'Cantidad tomada (EINHEIT)',\n",
    "                     \"Importe ML (WAERS)\":'Valor de la toma (WAERS)',\n",
    "                    \"Texto de material\":\"Texto breve material\"})\n",
    "\n",
    "    dfAdi[\"Precio/MonL (WAERS)\"]=dfAdi[\"Valor de la toma (WAERS)\"].divide(dfAdi[\"Cantidad tomada (EINHEIT)\"],fill_value=0)\n",
    "\n",
    "    dfComp=pd.concat([dfComp,dfAdi],sort=False)\n",
    "    del dfAdi\n",
    "\n",
    "    dfComp[\"Almacén\"].fillna(\"No encontrado\",inplace=True)\n",
    "    dfComp[\"Cantidad necesaria (EINHEIT)\"].fillna(0,inplace=True)\n",
    "\n",
    "    dfCab[\"Status\"]=dfCab[\"Status de sistema\"].str[:4]\n",
    "\n",
    "    dfCab=dfCab.rename(columns={\"Cantidad orden (GMEIN)\":\"Cantidad Plan PT\",\"Cantidad entregada (GMEIN)\":\"Cantidad Real PT\",\n",
    "                               'Número material':\"Receta\",'Texto breve material':\"Desc. Receta\"})\n",
    "\n",
    "    dfCab=dfCab[['Centro', 'Orden', 'Receta', 'Desc. Receta', 'Cantidad Plan PT',\n",
    "           'Cantidad Real PT', 'División', 'Fecha liberac.real', 'Status']]\n",
    "    \n",
    "    dfCab[\"División\"].fillna(\"No encontrado\",inplace=True)\n",
    "\n",
    "    if not dfComp.shape[0]==dfComp.merge(dfCab,how=\"left\",on=['Centro', 'Orden']).shape[0]:\n",
    "        raise Exception(\"Filas añadidas\")\n",
    "\n",
    "    dfComp=dfComp.merge(dfCab,how=\"left\",on=['Centro', 'Orden'])\n",
    "    del dfCab\n",
    "\n",
    "    dfComp[\"Cantidad Plan MP\"]=dfComp[\"Cantidad Real PT\"].divide(dfComp[\"Cantidad Plan PT\"],fill_value=0)*dfComp[\"Cantidad necesaria (EINHEIT)\"]\n",
    "    dfComp=dfComp.rename(columns={\"Precio/MonL (WAERS)\":\"Precio Plan\"})\n",
    "    \n",
    "    dfM=pd.read_excel(rutaM+\"\\MM60.xlsx\",usecols=[\"Material\",\"Centro\",\"Cantidad base\",\"Precio\"],\n",
    "                      converters={\"Material\":str,\"Centro\":str})\n",
    "    dfM=dfM.drop_duplicates(subset=[\"Material\",\"Centro\"])\n",
    "    if not dfComp.shape[0]==dfComp.merge(dfM,on=[\"Centro\",\"Material\"],how=\"left\").shape[0]:\n",
    "        raise Exception(\"MM60 inserta datos\")\n",
    "        \n",
    "    dfM=dfM.rename(columns={\"Precio\":\"Precio MM60\"})\n",
    "    dfM[\"Precio MM60\"]=dfM[\"Precio MM60\"].divide(dfM[\"Cantidad base\"],fill_value=0).fillna(0)\n",
    "    \n",
    "    dfComp=dfComp.merge(dfM,on=[\"Centro\",\"Material\"],how=\"left\")\n",
    "    #del dfM\n",
    "    dfComp[\"Cantidad base\"].fillna(1,inplace=True)\n",
    "    dfComp[\"Precio Plan\"]=dfComp[\"Precio Plan\"].divide(dfComp[\"Cantidad base\"])\n",
    "    \n",
    "    dfComp[\"Precio tomado\"]=dfComp[\"Valor de la toma (WAERS)\"].divide(dfComp[\"Cantidad tomada (EINHEIT)\"],fill_value=0)\n",
    "    dfComp[\"Precio tomado\"].fillna(0,inplace=True)\n",
    "    dfComp[\"Precio esperado\"] = dfComp[\"Precio Plan\"]\n",
    "    dfComp.loc[dfComp[\"Precio Plan\"]==0.0,\"Precio esperado\"]=dfComp.loc[dfComp[\"Precio Plan\"]==0.0,\"Precio tomado\"]\n",
    "    \n",
    "    dfMb51=pd.read_excel(ruta+\"\\{}\\Consumos\\{}. MB51 (Consumos).xlsx\".format(tiempo[0],tiempo[1]),usecols=colsMb51,converters=convMb51)\n",
    "\n",
    "    dfMb51[\"Clase de movimiento\"]=dfMb51[\"Clase de movimiento\"].replace([\"262\",\"102\",\"532\"],[\"261\",\"101\",\"531\"])\n",
    "\n",
    "    dfMb51=dfMb51.groupby([\"Orden\",\"Centro\",\"Material\",\"Clase de movimiento\"]).sum().reset_index()\n",
    "\n",
    "    dfMb51[\"Precio MB51\"]=dfMb51[\"Importe ML\"].divide(dfMb51[\"Ctd.en UM entrada\"],fill_value=0).fillna(0)\n",
    "\n",
    "    if not dfComp.shape[0]==dfComp.merge(dfMb51[[\"Orden\",\"Centro\",\"Material\",\"Clase de movimiento\",\"Precio MB51\"]],\n",
    "                                  on=[\"Orden\",\"Centro\",\"Material\",\"Clase de movimiento\"],\n",
    "                                 how=\"left\").shape[0]:\n",
    "        raise Exception(\"Mb51 añade valores\")\n",
    "\n",
    "    dfComp=dfComp.merge(dfMb51[[\"Orden\",\"Centro\",\"Material\",\"Clase de movimiento\",\"Precio MB51\"]],\n",
    "                                  on=[\"Orden\",\"Centro\",\"Material\",\"Clase de movimiento\"],\n",
    "                                 how=\"left\")\n",
    "    \n",
    "    dfComp[\"Precio MB51\"].fillna(0,inplace=True)\n",
    "    dfComp[\"Precio MM60\"].fillna(0,inplace=True)\n",
    "    \n",
    "    dfComp.loc[dfComp[\"Precio esperado\"]==0.0,\"Precio esperado\"]=dfComp.loc[dfComp[\"Precio esperado\"]==0.0,\"Precio MB51\"]\n",
    "    dfComp.loc[dfComp[\"Precio Plan\"]==0.0,\"Precio Plan\"]=dfComp.loc[dfComp[\"Precio Plan\"]==0.0,\"Precio MB51\"]\n",
    "    \n",
    "    dfComp.loc[dfComp[\"Precio esperado\"]==0.0,\"Precio esperado\"]=dfComp.loc[dfComp[\"Precio esperado\"]==0.0,\"Precio MM60\"]\n",
    "    dfComp.loc[dfComp[\"Precio Plan\"]==0.0,\"Precio Plan\"]=dfComp.loc[dfComp[\"Precio Plan\"]==0.0,\"Precio MM60\"]\n",
    "\n",
    "    dfComp.loc[dfComp[\"Precio tomado\"]==0.0,\"Precio tomado\"]=dfComp.loc[dfComp[\"Precio tomado\"]==0.0,\"Precio MB51\"]    \n",
    "    dfComp.loc[dfComp[\"Precio tomado\"]==0.0,\"Precio tomado\"]=dfComp.loc[dfComp[\"Precio tomado\"]==0.0,\"Precio MM60\"]\n",
    "    \n",
    "    dfComp[\"Costo Tomado\"]=dfComp[\"Cantidad tomada (EINHEIT)\"]*dfComp[\"Precio tomado\"]\n",
    "    dfComp.loc[dfComp[\"Costo Tomado\"]==0.0,\"Costo Tomado\"]=dfComp.loc[dfComp[\"Costo Tomado\"]==0.0,\"Valor de la toma (WAERS)\"]\n",
    "    \n",
    "    dfComp[\"Costo Estándar\"]=dfComp[\"Cantidad Plan MP\"]*dfComp[\"Precio Plan\"]\n",
    "    dfComp[\"Costo Esperado\"]=dfComp[\"Cantidad tomada (EINHEIT)\"]*dfComp[\"Precio esperado\"]\n",
    "\n",
    "    dfComp[\"Variación Consumo\"]=dfComp[\"Costo Esperado\"]-dfComp[\"Costo Estándar\"]\n",
    "    dfComp[\"Variación Precio\"]=dfComp[\"Costo Tomado\"]-dfComp[\"Costo Esperado\"]\n",
    "    del dfComp['Cantidad base']\n",
    "    dfComp=dfComp[['Orden', 'Centro', 'Receta', 'Desc. Receta','Clase de movimiento', 'Material', 'Texto breve material',\n",
    "           'Unidad medida base (=EINHEIT)', 'Cantidad necesaria (EINHEIT)','Cantidad tomada (EINHEIT)',\n",
    "            'Valor de la toma (WAERS)', 'Almacén','División','Fecha liberac.real', 'Status',\n",
    "           'Cantidad Plan PT', 'Cantidad Real PT', \n",
    "            'Cantidad Plan MP', 'Precio tomado', 'Precio esperado', 'Precio Plan',\"Precio MM60\",\"Precio MB51\",\n",
    "            'Costo Estándar', 'Costo Esperado',\"Costo Tomado\",\n",
    "           'Variación Consumo', 'Variación Precio']]\n",
    "    \n",
    "    dfComp.to_excel(rutaR+\"\\Consumos\\{}\\{}. Consumos.xlsx\".format(tiempo[0],tiempo[1]),index=None)\n",
    "    print(tiempo)"
   ]
  },
  {
   "cell_type": "code",
   "execution_count": null,
   "id": "01b196c1",
   "metadata": {},
   "outputs": [],
   "source": [
    "A"
   ]
  },
  {
   "cell_type": "code",
   "execution_count": null,
   "id": "98c59dec",
   "metadata": {},
   "outputs": [],
   "source": []
  }
 ],
 "metadata": {
  "kernelspec": {
   "display_name": "Python 3 (ipykernel)",
   "language": "python",
   "name": "python3"
  },
  "language_info": {
   "codemirror_mode": {
    "name": "ipython",
    "version": 3
   },
   "file_extension": ".py",
   "mimetype": "text/x-python",
   "name": "python",
   "nbconvert_exporter": "python",
   "pygments_lexer": "ipython3",
   "version": "3.10.9"
  }
 },
 "nbformat": 4,
 "nbformat_minor": 5
}
